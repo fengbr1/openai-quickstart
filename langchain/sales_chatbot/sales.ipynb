{
 "cells": [
  {
   "cell_type": "markdown",
   "id": "69032b4b-b031-4020-beb0-e8dfd22b660e",
   "metadata": {},
   "source": [
    "# LangChain 实战：房产销售聊天机器人"
   ]
  },
  {
   "cell_type": "markdown",
   "id": "0f3e2d5a-c2ff-4faf-b153-d1751c25fae0",
   "metadata": {},
   "source": [
    "## 使用 GPT-4 构造销售话术数据\n",
    "\n",
    "ChatGPT 分享链接：https://chat.openai.com/share/f3e4b9b0-95fb-4c6a-a3c7-f901dd194c91\n",
    "\n",
    "\n",
    "使用 ChatGPT 构造销售数据的 Prompt 示例：\n",
    "\n",
    "```\n",
    "你是中国顶级的房地产销售，现在培训职场新人，请给出100条实用的销售话术。\n",
    "\n",
    "每条销售话术以如下格式给出：\n",
    "[客户问题]\n",
    "[销售回答]\n",
    "\n",
    "```\n",
    "\n",
    "GPT-4 回复结果：\n",
    "\n",
    "```\n",
    "在房地产销售行业中，精心准备的销售话术可以极大地提高成交率。以下是一些适用于中国房地产销售的实用话术：\n",
    "\n",
    "1.  \n",
    "[客户问题] 这个小区交通便利吗？\n",
    "[销售回答] 当然了，这个小区距离地铁站只有几分钟的步行距离，而且附近有多条公交线路，非常方便。\n",
    "\n",
    "2.  \n",
    "[客户问题] 我担心楼下太吵。\n",
    "[销售回答] 这个小区特别注重居住体验，我们有良好的隔音设计，并且小区内部规划了绿化区域，可以有效降低噪音。\n",
    "\n",
    "3.  \n",
    "[客户问题] 我看房价还在涨，这个投资回报怎么样？\n",
    "[销售回答] 这个区域未来有大量的商业和基础设施建设，所以从长期来看，投资回报非常有保证。\n",
    "\n",
    "4.  \n",
    "[客户问题] 有没有学校？\n",
    "[销售回答] 附近有多所优质的学校，非常适合有孩子的家庭。\n",
    "\n",
    "5.  \n",
    "[客户问题] 物业管理怎么样？\n",
    "[销售回答] 我们的物业管理得到了业主一致好评，服务非常到位。\n",
    "\n",
    "6.  \n",
    "[客户问题] 我想要南向的房子。\n",
    "[销售回答] 很好，我们确实有一些朝南的单位，它们的采光特别好。\n",
    "\n",
    "7.  \n",
    "[客户问题] 这个小区安全吗？\n",
    "[销售回答] 当然，我们24小时安保巡逻，还有先进的监控系统。\n",
    "\n",
    "8.  \n",
    "[客户问题] 预计什么时候交房？\n",
    "[销售回答] 根据目前的进度，我们预计将在明年底交房。\n",
    "\n",
    "9.  \n",
    "[客户问题] 我不想要一楼的房子。\n",
    "[销售回答] 我理解您的顾虑，我们还有多个楼层的房源可以选择。\n",
    "\n",
    "10.  \n",
    "[客户问题] 有优惠吗？\n",
    "[销售回答] 当然，如果您现在下订，我们可以给您一些优惠。\n",
    "```\n",
    "\n",
    "\n",
    "## 使用 Document Transformers 模块来处理原始数据\n",
    "\n",
    "\n",
    "将 ChatGPT 生成的结果保存到 [real_estate_sales_data.txt](real_estate_sales_data.txt) 文件中"
   ]
  },
  {
   "cell_type": "code",
   "execution_count": 1,
   "id": "efcee928-b9f4-4e4a-b9fb-f6cbee21b642",
   "metadata": {},
   "outputs": [],
   "source": [
    "with open(\"real_estate_sales_data.txt\",encoding=\"utf-8\") as f:\n",
    "    real_estate_sales = f.read()"
   ]
  },
  {
   "cell_type": "markdown",
   "id": "a9119556-d2e3-4edf-be16-15837da156f1",
   "metadata": {
    "jupyter": {
     "source_hidden": true
    }
   },
   "source": [
    "### 使用 CharacterTextSplitter 来进行文本分割\n",
    "\n",
    "- 基于单字符来进行文本分割（separator）\n",
    "- 基于字符数来决定文本块长度（chunk_size）\n",
    "\n",
    "参考示例：\n",
    "\n",
    "```python\n",
    "from langchain.text_splitter import CharacterTextSplitter\n",
    "text_splitter = CharacterTextSplitter(        \n",
    "    separator = \"\\n\\n\",\n",
    "    chunk_size = 1000,\n",
    "    chunk_overlap  = 200,\n",
    "    length_function = len,\n",
    "    is_separator_regex = False,\n",
    ")\n",
    "```\n"
   ]
  },
  {
   "cell_type": "code",
   "execution_count": 2,
   "id": "dbe535b8-2bd8-4c31-91d7-eba8aa61b3ef",
   "metadata": {},
   "outputs": [],
   "source": [
    "from langchain.text_splitter import CharacterTextSplitter"
   ]
  },
  {
   "cell_type": "code",
   "execution_count": 3,
   "id": "a4f30d9b-9fc6-4860-a497-0aa8220b9284",
   "metadata": {},
   "outputs": [],
   "source": [
    "text_splitter = CharacterTextSplitter(        \n",
    "    separator = r'\\d+\\.',\n",
    "    chunk_size = 100,\n",
    "    chunk_overlap  = 0,\n",
    "    length_function = len,\n",
    "    is_separator_regex = True,\n",
    ")"
   ]
  },
  {
   "cell_type": "code",
   "execution_count": 4,
   "id": "530f3172-17a5-4924-ad17-284fbca422ae",
   "metadata": {},
   "outputs": [],
   "source": [
    "docs = text_splitter.create_documents([real_estate_sales])"
   ]
  },
  {
   "cell_type": "code",
   "execution_count": 5,
   "id": "3956ec36-706e-4f43-88fc-d704f2984290",
   "metadata": {},
   "outputs": [
    {
     "data": {
      "text/plain": [
       "Document(page_content='[客户问题] 你们的手机相机效果怎么样？  \\n[销售回答] 华为手机的相机采用了领先的技术，拍摄效果非常出色，特别适合拍摄高质量的照片和视频。您可以现场试拍一下，感受一下效果。')"
      ]
     },
     "execution_count": 5,
     "metadata": {},
     "output_type": "execute_result"
    }
   ],
   "source": [
    "docs[0]"
   ]
  },
  {
   "cell_type": "code",
   "execution_count": 6,
   "id": "73b2d47a-27ae-4cd4-a72a-3809b4c22bff",
   "metadata": {},
   "outputs": [
    {
     "data": {
      "text/plain": [
       "37"
      ]
     },
     "execution_count": 6,
     "metadata": {},
     "output_type": "execute_result"
    }
   ],
   "source": [
    "len(docs)"
   ]
  },
  {
   "cell_type": "markdown",
   "id": "e4617858-ad9c-42eb-a4c3-6bfb7108cdd2",
   "metadata": {},
   "source": [
    "### 使用 Faiss 作为向量数据库，持久化存储房产销售 问答对（QA-Pair）"
   ]
  },
  {
   "cell_type": "code",
   "execution_count": 7,
   "id": "508c2ab2-e187-424f-a43c-ca3d3b1a0550",
   "metadata": {},
   "outputs": [
    {
     "name": "stderr",
     "output_type": "stream",
     "text": [
      "c:\\Users\\fengbr\\AppData\\Local\\anaconda3\\envs\\langchain\\lib\\site-packages\\langchain_core\\_api\\deprecation.py:119: LangChainDeprecationWarning: The class `OpenAIEmbeddings` was deprecated in LangChain 0.0.9 and will be removed in 0.3.0. An updated version of the class exists in the langchain-openai package and should be used instead. To use it run `pip install -U langchain-openai` and import as `from langchain_openai import OpenAIEmbeddings`.\n",
      "  warn_deprecated(\n"
     ]
    }
   ],
   "source": [
    "from langchain.embeddings.openai import OpenAIEmbeddings\n",
    "from langchain.text_splitter import CharacterTextSplitter\n",
    "from langchain.vectorstores import FAISS\n",
    "\n",
    "db = FAISS.from_documents(docs, OpenAIEmbeddings(base_url=\"https://burn.hair/v1\"))"
   ]
  },
  {
   "cell_type": "code",
   "execution_count": 8,
   "id": "250e0873-95e2-4372-98a5-68c0feb304bb",
   "metadata": {},
   "outputs": [],
   "source": [
    "query = \"手机贵不贵\""
   ]
  },
  {
   "cell_type": "code",
   "execution_count": 9,
   "id": "0d18fcc6-c2be-434b-b8de-9648ac6f83f4",
   "metadata": {},
   "outputs": [],
   "source": [
    "answer_list = db.similarity_search(query)"
   ]
  },
  {
   "cell_type": "code",
   "execution_count": 10,
   "id": "e689667e-7a45-40d6-9eae-4e52cbc7daab",
   "metadata": {},
   "outputs": [
    {
     "name": "stdout",
     "output_type": "stream",
     "text": [
      "[客户问题] 这款手机的价格是否划算？  \n",
      "[销售回答] 华为手机提供了高性价比的选择，您不仅能享受顶尖的技术和优质的售后服务，还能获得持续的软件更新和优化，绝对物超所值。\n",
      "\n",
      "[客户问题] 这款手机的颜值怎么样？  \n",
      "[销售回答] 华为手机的设计非常时尚，外观精美，多种颜色可选，满足您对美的追求，同时手感也非常出色。\n",
      "\n",
      "[客户问题] 这款手机适合玩游戏吗？  \n",
      "[销售回答] 这款华为手机性能非常强大，搭载了高性能处理器和GPU，绝对能够满足您玩大型游戏的需求，同时我们还有游戏模式，进一步提升游戏体验。\n",
      "\n",
      "[客户问题] 华为的手机和其他品牌相比有什么优势？  \n",
      "[销售回答] 华为手机在性能、拍照、续航等方面都处于领先地位，同时我们还提供全球领先的5G技术，确保您拥有最佳的使用体验。\n"
     ]
    }
   ],
   "source": [
    "for ans in answer_list:\n",
    "    print(ans.page_content + \"\\n\")"
   ]
  },
  {
   "cell_type": "code",
   "execution_count": 11,
   "id": "a6cc47bf-1566-472f-84d2-a46bd634907c",
   "metadata": {},
   "outputs": [],
   "source": [
    "db.save_local(\"real_estates_sale\")"
   ]
  },
  {
   "cell_type": "markdown",
   "id": "0d5323e5-03fa-4c1c-b896-3ccc28af1857",
   "metadata": {},
   "source": [
    "### 使用 retriever 从向量数据库中获取结果\n",
    "\n",
    "#### 使用参数 `k` 指定返回结果数量\n"
   ]
  },
  {
   "cell_type": "code",
   "execution_count": 12,
   "id": "17f051c9-8676-48d1-a9a4-e69b52630faf",
   "metadata": {},
   "outputs": [],
   "source": [
    "# 实例化一个 TopK Retriever\n",
    "topK_retriever = db.as_retriever(search_kwargs={\"k\": 3})"
   ]
  },
  {
   "cell_type": "code",
   "execution_count": 13,
   "id": "e33024db-ca7b-4d68-9b0e-c31c15ded57d",
   "metadata": {},
   "outputs": [
    {
     "data": {
      "text/plain": [
       "VectorStoreRetriever(tags=['FAISS', 'OpenAIEmbeddings'], vectorstore=<langchain_community.vectorstores.faiss.FAISS object at 0x0000024D6BEAEA10>, search_kwargs={'k': 3})"
      ]
     },
     "execution_count": 13,
     "metadata": {},
     "output_type": "execute_result"
    }
   ],
   "source": [
    "topK_retriever"
   ]
  },
  {
   "cell_type": "code",
   "execution_count": 14,
   "id": "7efb1414-859f-4818-bacd-e1e2edf34b95",
   "metadata": {},
   "outputs": [
    {
     "name": "stderr",
     "output_type": "stream",
     "text": [
      "c:\\Users\\fengbr\\AppData\\Local\\anaconda3\\envs\\langchain\\lib\\site-packages\\langchain_core\\_api\\deprecation.py:119: LangChainDeprecationWarning: The method `BaseRetriever.get_relevant_documents` was deprecated in langchain-core 0.1.46 and will be removed in 0.3.0. Use invoke instead.\n",
      "  warn_deprecated(\n"
     ]
    },
    {
     "name": "stdout",
     "output_type": "stream",
     "text": [
      "[客户问题] 这款手机的价格是否划算？  \n",
      "[销售回答] 华为手机提供了高性价比的选择，您不仅能享受顶尖的技术和优质的售后服务，还能获得持续的软件更新和优化，绝对物超所值。\n",
      "\n",
      "[客户问题] 这款手机的颜值怎么样？  \n",
      "[销售回答] 华为手机的设计非常时尚，外观精美，多种颜色可选，满足您对美的追求，同时手感也非常出色。\n",
      "\n",
      "[客户问题] 这款手机适合玩游戏吗？  \n",
      "[销售回答] 这款华为手机性能非常强大，搭载了高性能处理器和GPU，绝对能够满足您玩大型游戏的需求，同时我们还有游戏模式，进一步提升游戏体验。\n"
     ]
    }
   ],
   "source": [
    "docs = topK_retriever.get_relevant_documents(query)\n",
    "for doc in docs:\n",
    "    print(doc.page_content + \"\\n\")"
   ]
  },
  {
   "cell_type": "code",
   "execution_count": 15,
   "id": "a3c4b62d-6f8f-461b-a4fb-41c8a404b831",
   "metadata": {},
   "outputs": [],
   "source": [
    "docs = topK_retriever.get_relevant_documents(\"你们有没有1000万的手机啊？\")"
   ]
  },
  {
   "cell_type": "code",
   "execution_count": 16,
   "id": "04cca3d7-23d9-491f-8350-faeb19861dec",
   "metadata": {},
   "outputs": [
    {
     "name": "stdout",
     "output_type": "stream",
     "text": [
      "[客户问题] 这款手机的价格是否划算？  \n",
      "[销售回答] 华为手机提供了高性价比的选择，您不仅能享受顶尖的技术和优质的售后服务，还能获得持续的软件更新和优化，绝对物超所值。\n",
      "\n",
      "[客户问题] 这款手机有红外功能吗？  \n",
      "[销售回答] 是的，这款华为手机配备了红外功能，您可以用手机遥控家电，非常实用。\n",
      "\n",
      "[客户问题] 这款手机的颜值怎么样？  \n",
      "[销售回答] 华为手机的设计非常时尚，外观精美，多种颜色可选，满足您对美的追求，同时手感也非常出色。\n"
     ]
    }
   ],
   "source": [
    "for doc in docs:\n",
    "    print(doc.page_content + \"\\n\")"
   ]
  },
  {
   "cell_type": "markdown",
   "id": "b335c9e5-bc01-4a47-916c-03bec0e7a839",
   "metadata": {},
   "source": [
    "#### 使用 similarity_score_threshold 设置阈值，提升结果的相关性质量"
   ]
  },
  {
   "cell_type": "code",
   "execution_count": 17,
   "id": "b1298956-6cf3-4a68-a3c2-a3149f64f156",
   "metadata": {},
   "outputs": [],
   "source": [
    "# 实例化一个 similarity_score_threshold Retriever\n",
    "retriever = db.as_retriever(\n",
    "    search_type=\"similarity_score_threshold\",\n",
    "    search_kwargs={\"score_threshold\": 0.8}\n",
    ")"
   ]
  },
  {
   "cell_type": "code",
   "execution_count": 18,
   "id": "d61167de-72ed-4618-a2e1-5df04784a3bc",
   "metadata": {},
   "outputs": [
    {
     "name": "stdout",
     "output_type": "stream",
     "text": [
      "[客户问题] 这款手机的价格是否划算？  \n",
      "[销售回答] 华为手机提供了高性价比的选择，您不仅能享受顶尖的技术和优质的售后服务，还能获得持续的软件更新和优化，绝对物超所值。\n"
     ]
    }
   ],
   "source": [
    "docs = retriever.get_relevant_documents(query)\n",
    "for doc in docs:\n",
    "    print(doc.page_content + \"\\n\")"
   ]
  },
  {
   "cell_type": "code",
   "execution_count": null,
   "id": "548d1b52-6fa2-46d6-9218-908db572f380",
   "metadata": {},
   "outputs": [],
   "source": []
  },
  {
   "cell_type": "markdown",
   "id": "c31344ce-f952-4604-b700-fdbb34da1e28",
   "metadata": {},
   "source": [
    "### 提取向量数据库中的`销售回答`"
   ]
  },
  {
   "cell_type": "code",
   "execution_count": 19,
   "id": "25768463-da65-4762-978d-51c0c3a9c24b",
   "metadata": {},
   "outputs": [],
   "source": [
    "docs = retriever.get_relevant_documents(query)"
   ]
  },
  {
   "cell_type": "code",
   "execution_count": 20,
   "id": "4838d3da-dca3-4c31-80da-cec75760a833",
   "metadata": {},
   "outputs": [
    {
     "data": {
      "text/plain": [
       "'[客户问题] 这款手机的价格是否划算？  \\n[销售回答] 华为手机提供了高性价比的选择，您不仅能享受顶尖的技术和优质的售后服务，还能获得持续的软件更新和优化，绝对物超所值。'"
      ]
     },
     "execution_count": 20,
     "metadata": {},
     "output_type": "execute_result"
    }
   ],
   "source": [
    "docs[0].page_content"
   ]
  },
  {
   "cell_type": "code",
   "execution_count": 21,
   "id": "1ba30232-f468-4102-b70c-02c8b74da43d",
   "metadata": {},
   "outputs": [
    {
     "data": {
      "text/plain": [
       "['[客户问题] 这款手机的价格是否划算？  \\n',\n",
       " '华为手机提供了高性价比的选择，您不仅能享受顶尖的技术和优质的售后服务，还能获得持续的软件更新和优化，绝对物超所值。']"
      ]
     },
     "execution_count": 21,
     "metadata": {},
     "output_type": "execute_result"
    }
   ],
   "source": [
    "docs[0].page_content.split(\"[销售回答] \")"
   ]
  },
  {
   "cell_type": "code",
   "execution_count": 22,
   "id": "bda8eb0c-eb1f-47b2-91ab-4c94ff71c3db",
   "metadata": {},
   "outputs": [],
   "source": [
    "ans = docs[0].page_content.split(\"[销售回答] \")[-1]"
   ]
  },
  {
   "cell_type": "code",
   "execution_count": 23,
   "id": "917a3b6c-3149-42e2-b7b6-abebd94b7f72",
   "metadata": {},
   "outputs": [
    {
     "data": {
      "text/plain": [
       "'华为手机提供了高性价比的选择，您不仅能享受顶尖的技术和优质的售后服务，还能获得持续的软件更新和优化，绝对物超所值。'"
      ]
     },
     "execution_count": 23,
     "metadata": {},
     "output_type": "execute_result"
    }
   ],
   "source": [
    "ans"
   ]
  },
  {
   "cell_type": "markdown",
   "id": "b36b61a5-156d-4546-bbd1-8a983e94676b",
   "metadata": {},
   "source": [
    "#### 尝试各种问题"
   ]
  },
  {
   "cell_type": "code",
   "execution_count": 24,
   "id": "c311a656-e571-45d6-8690-88e4be2c2a65",
   "metadata": {},
   "outputs": [],
   "source": [
    "from typing import List\n",
    "\n",
    "def sales(query: str, score_threshold: float=0.8) -> List[str]:\n",
    "    retriever = db.as_retriever(search_type=\"similarity_score_threshold\", search_kwargs={\"score_threshold\": score_threshold})    \n",
    "    docs = retriever.get_relevant_documents(query)\n",
    "    ans_list = [doc.page_content.split(\"[销售回答] \")[-1] for doc in docs]\n",
    "\n",
    "    return ans_list"
   ]
  },
  {
   "cell_type": "code",
   "execution_count": 25,
   "id": "2f4c6c08-b97c-4727-9aa1-a474d85a11e4",
   "metadata": {},
   "outputs": [
    {
     "name": "stdout",
     "output_type": "stream",
     "text": [
      "['华为手机的相机采用了领先的技术，拍摄效果非常出色，特别适合拍摄高质量的照片和视频。您可以现场试拍一下，感受一下效果。', '华为手机的相机功能非常丰富，包括夜景模式、超级微距、AI美颜等多种功能，让您在各种场景下都能拍出好照片。', '华为手机的设计非常时尚，外观精美，多种颜色可选，满足您对美的追求，同时手感也非常出色。', '华为手机在性能、拍照、续航等方面都处于领先地位，同时我们还提供全球领先的5G技术，确保您拥有最佳的使用体验。']\n"
     ]
    }
   ],
   "source": [
    "query = \"华为手机拍照怎么样\"\n",
    "\n",
    "print(sales(query))"
   ]
  },
  {
   "cell_type": "code",
   "execution_count": 26,
   "id": "11e3d8b6-839f-4b2f-b519-841e0271f95b",
   "metadata": {},
   "outputs": [
    {
     "name": "stdout",
     "output_type": "stream",
     "text": [
      "['华为手机的相机采用了领先的技术，拍摄效果非常出色，特别适合拍摄高质量的照片和视频。您可以现场试拍一下，感受一下效果。', '华为手机的相机功能非常丰富，包括夜景模式、超级微距、AI美颜等多种功能，让您在各种场景下都能拍出好照片。', '华为手机的设计非常时尚，外观精美，多种颜色可选，满足您对美的追求，同时手感也非常出色。', '华为手机在性能、拍照、续航等方面都处于领先地位，同时我们还提供全球领先的5G技术，确保您拥有最佳的使用体验。']\n"
     ]
    }
   ],
   "source": [
    "print(sales(query, 0.75))"
   ]
  },
  {
   "cell_type": "code",
   "execution_count": 27,
   "id": "fc5b030a-ae6f-4d42-9577-1420c78aecb1",
   "metadata": {},
   "outputs": [
    {
     "name": "stdout",
     "output_type": "stream",
     "text": [
      "score:0.8 ans: ['华为手机的相机采用了领先的技术，拍摄效果非常出色，特别适合拍摄高质量的照片和视频。您可以现场试拍一下，感受一下效果。', '华为手机的相机功能非常丰富，包括夜景模式、超级微距、AI美颜等多种功能，让您在各种场景下都能拍出好照片。', '华为手机的设计非常时尚，外观精美，多种颜色可选，满足您对美的追求，同时手感也非常出色。', '华为手机在性能、拍照、续航等方面都处于领先地位，同时我们还提供全球领先的5G技术，确保您拥有最佳的使用体验。']\n",
      "\n",
      "score:0.75 ans: ['华为手机的相机采用了领先的技术，拍摄效果非常出色，特别适合拍摄高质量的照片和视频。您可以现场试拍一下，感受一下效果。', '华为手机的相机功能非常丰富，包括夜景模式、超级微距、AI美颜等多种功能，让您在各种场景下都能拍出好照片。', '华为手机的设计非常时尚，外观精美，多种颜色可选，满足您对美的追求，同时手感也非常出色。', '华为手机在性能、拍照、续航等方面都处于领先地位，同时我们还提供全球领先的5G技术，确保您拥有最佳的使用体验。']\n",
      "\n",
      "score:0.5 ans: ['华为手机的相机采用了领先的技术，拍摄效果非常出色，特别适合拍摄高质量的照片和视频。您可以现场试拍一下，感受一下效果。', '华为手机的相机功能非常丰富，包括夜景模式、超级微距、AI美颜等多种功能，让您在各种场景下都能拍出好照片。', '华为手机的设计非常时尚，外观精美，多种颜色可选，满足您对美的追求，同时手感也非常出色。', '华为手机在性能、拍照、续航等方面都处于领先地位，同时我们还提供全球领先的5G技术，确保您拥有最佳的使用体验。']\n"
     ]
    }
   ],
   "source": [
    "query = \"华为手机拍照怎么样\"\n",
    "\n",
    "print(f\"score:0.8 ans: {sales(query)}\\n\")\n",
    "print(f\"score:0.75 ans: {sales(query, 0.75)}\\n\")\n",
    "print(f\"score:0.5 ans: {sales(query, 0.5)}\\n\")"
   ]
  },
  {
   "cell_type": "markdown",
   "id": "9e26e6d7-259b-4ecf-9c72-027befba4e3b",
   "metadata": {},
   "source": [
    "#### 当向量数据库中没有合适答案时，使用大语言模型能力"
   ]
  },
  {
   "cell_type": "code",
   "execution_count": 28,
   "id": "9142feb4-980a-4142-b367-1401021dceef",
   "metadata": {},
   "outputs": [],
   "source": [
    "from langchain.chains import RetrievalQA\n",
    "from langchain_openai import ChatOpenAI\n",
    "\n",
    "llm = ChatOpenAI(model_name=\"gpt-4-1106-preview\", temperature=0.5,base_url=\"https://burn.hair/v1\")\n",
    "qa_chain = RetrievalQA.from_chain_type(llm,\n",
    "                                       retriever=db.as_retriever(search_type=\"similarity_score_threshold\",\n",
    "                                                                 search_kwargs={\"score_threshold\": 0.8}))"
   ]
  },
  {
   "cell_type": "code",
   "execution_count": 29,
   "id": "d281b560-54bb-4a25-a1dc-b23874361654",
   "metadata": {},
   "outputs": [
    {
     "name": "stderr",
     "output_type": "stream",
     "text": [
      "c:\\Users\\fengbr\\AppData\\Local\\anaconda3\\envs\\langchain\\lib\\site-packages\\langchain_core\\_api\\deprecation.py:119: LangChainDeprecationWarning: The method `Chain.__call__` was deprecated in langchain 0.1.0 and will be removed in 0.3.0. Use invoke instead.\n",
      "  warn_deprecated(\n",
      "c:\\Users\\fengbr\\AppData\\Local\\anaconda3\\envs\\langchain\\lib\\site-packages\\langchain_core\\vectorstores.py:342: UserWarning: No relevant docs were retrieved using the relevance score threshold 0.8\n",
      "  warnings.warn(\n"
     ]
    },
    {
     "data": {
      "text/plain": [
       "{'query': '你们手机拍照好吗？',\n",
       " 'result': '很抱歉，但作为一个AI，我没有手机，也无法拍照。如果您想了解特定手机的相机性能，我可以提供一些普遍的信息或者针对特定型号的相机性能进行说明。如果您有任何具体的手机型号或品牌想了解，请告诉我，我会尽力提供相关信息。'}"
      ]
     },
     "execution_count": 29,
     "metadata": {},
     "output_type": "execute_result"
    }
   ],
   "source": [
    "qa_chain({\"query\": \"你们手机拍照好吗？\"})"
   ]
  },
  {
   "cell_type": "code",
   "execution_count": 30,
   "id": "c6a30dcc-fa6b-4282-935c-b07902746e19",
   "metadata": {},
   "outputs": [
    {
     "data": {
      "text/plain": [
       "{'query': '你们华为手机是安卓系统吗', 'result': '华为手机原本搭载的是基于Android深度定制的EMUI系统。'}"
      ]
     },
     "execution_count": 30,
     "metadata": {},
     "output_type": "execute_result"
    }
   ],
   "source": [
    "qa_chain({\"query\": \"你们华为手机是安卓系统吗\"})"
   ]
  },
  {
   "cell_type": "code",
   "execution_count": 31,
   "id": "9da44bd6-02ef-4fb6-8e9e-7c99aeba483a",
   "metadata": {},
   "outputs": [
    {
     "name": "stdout",
     "output_type": "stream",
     "text": [
      "[]\n"
     ]
    },
    {
     "name": "stderr",
     "output_type": "stream",
     "text": [
      "c:\\Users\\fengbr\\AppData\\Local\\anaconda3\\envs\\langchain\\lib\\site-packages\\langchain_core\\vectorstores.py:342: UserWarning: No relevant docs were retrieved using the relevance score threshold 0.8\n",
      "  warnings.warn(\n"
     ]
    }
   ],
   "source": [
    "print(sales(\"你们手机是安卓系统吗\"))"
   ]
  },
  {
   "cell_type": "code",
   "execution_count": null,
   "id": "9764bb10-44ed-47c9-a351-a68f4f7d4f44",
   "metadata": {},
   "outputs": [],
   "source": []
  },
  {
   "cell_type": "markdown",
   "id": "0a0647e8-5b41-4c93-87c2-3240ec558717",
   "metadata": {},
   "source": [
    "## 加载 FAISS 向量数据库已有结果"
   ]
  },
  {
   "cell_type": "code",
   "execution_count": 32,
   "id": "913edd04-37ea-4c3f-9346-086aeb0ab447",
   "metadata": {},
   "outputs": [],
   "source": [
    "from langchain_openai import OpenAIEmbeddings\n",
    "from langchain.vectorstores import FAISS\n",
    "\n",
    "db = FAISS.load_local(\"real_estates_sale\", OpenAIEmbeddings(base_url=\"https://burn.hair/v1\"),allow_dangerous_deserialization=True)"
   ]
  },
  {
   "cell_type": "code",
   "execution_count": 33,
   "id": "77d8eee4-6383-4b4a-9737-95ea9fc53b87",
   "metadata": {},
   "outputs": [
    {
     "name": "stderr",
     "output_type": "stream",
     "text": [
      "c:\\Users\\fengbr\\AppData\\Local\\anaconda3\\envs\\langchain\\lib\\site-packages\\langchain_core\\_api\\deprecation.py:119: LangChainDeprecationWarning: The class `ChatOpenAI` was deprecated in LangChain 0.0.10 and will be removed in 0.3.0. An updated version of the class exists in the langchain-openai package and should be used instead. To use it run `pip install -U langchain-openai` and import as `from langchain_openai import ChatOpenAI`.\n",
      "  warn_deprecated(\n"
     ]
    }
   ],
   "source": [
    "from langchain.chains import RetrievalQA\n",
    "from langchain.chat_models import ChatOpenAI\n",
    "\n",
    "llm = ChatOpenAI(model_name=\"gpt-4\", temperature=0.5,base_url=\"https://burn.hair/v1\")\n",
    "qa_chain = RetrievalQA.from_chain_type(llm,\n",
    "                                       retriever=db.as_retriever(search_type=\"similarity_score_threshold\",\n",
    "                                                                 search_kwargs={\"score_threshold\": 0.8}))"
   ]
  },
  {
   "cell_type": "code",
   "execution_count": 34,
   "id": "5dfac197-cadb-47d7-8cbe-1b07a83fc8e1",
   "metadata": {},
   "outputs": [
    {
     "name": "stderr",
     "output_type": "stream",
     "text": [
      "c:\\Users\\fengbr\\AppData\\Local\\anaconda3\\envs\\langchain\\lib\\site-packages\\langchain_core\\vectorstores.py:342: UserWarning: No relevant docs were retrieved using the relevance score threshold 0.8\n",
      "  warnings.warn(\n"
     ]
    },
    {
     "ename": "KeyboardInterrupt",
     "evalue": "",
     "output_type": "error",
     "traceback": [
      "\u001B[1;31m---------------------------------------------------------------------------\u001B[0m",
      "\u001B[1;31mKeyboardInterrupt\u001B[0m                         Traceback (most recent call last)",
      "Cell \u001B[1;32mIn[34], line 1\u001B[0m\n\u001B[1;32m----> 1\u001B[0m \u001B[43mqa_chain\u001B[49m\u001B[43m(\u001B[49m\u001B[43m{\u001B[49m\u001B[38;5;124;43m\"\u001B[39;49m\u001B[38;5;124;43mquery\u001B[39;49m\u001B[38;5;124;43m\"\u001B[39;49m\u001B[43m:\u001B[49m\u001B[43m \u001B[49m\u001B[38;5;124;43m\"\u001B[39;49m\u001B[38;5;124;43m我想买别墅，你们有么\u001B[39;49m\u001B[38;5;124;43m\"\u001B[39;49m\u001B[43m}\u001B[49m\u001B[43m)\u001B[49m\n",
      "File \u001B[1;32mc:\\Users\\fengbr\\AppData\\Local\\anaconda3\\envs\\langchain\\lib\\site-packages\\langchain_core\\_api\\deprecation.py:148\u001B[0m, in \u001B[0;36mdeprecated.<locals>.deprecate.<locals>.warning_emitting_wrapper\u001B[1;34m(*args, **kwargs)\u001B[0m\n\u001B[0;32m    146\u001B[0m     warned \u001B[39m=\u001B[39m \u001B[39mTrue\u001B[39;00m\n\u001B[0;32m    147\u001B[0m     emit_warning()\n\u001B[1;32m--> 148\u001B[0m \u001B[39mreturn\u001B[39;00m wrapped(\u001B[39m*\u001B[39margs, \u001B[39m*\u001B[39m\u001B[39m*\u001B[39mkwargs)\n",
      "File \u001B[1;32mc:\\Users\\fengbr\\AppData\\Local\\anaconda3\\envs\\langchain\\lib\\site-packages\\langchain\\chains\\base.py:383\u001B[0m, in \u001B[0;36mChain.__call__\u001B[1;34m(self, inputs, return_only_outputs, callbacks, tags, metadata, run_name, include_run_info)\u001B[0m\n\u001B[0;32m    351\u001B[0m \u001B[39m\u001B[39m\u001B[39m\"\"\"Execute the chain.\u001B[39;00m\n\u001B[0;32m    352\u001B[0m \n\u001B[0;32m    353\u001B[0m \u001B[39mArgs:\u001B[39;00m\n\u001B[1;32m   (...)\u001B[0m\n\u001B[0;32m    374\u001B[0m \u001B[39m        `Chain.output_keys`.\u001B[39;00m\n\u001B[0;32m    375\u001B[0m \u001B[39m\"\"\"\u001B[39;00m\n\u001B[0;32m    376\u001B[0m config \u001B[39m=\u001B[39m {\n\u001B[0;32m    377\u001B[0m     \u001B[39m\"\u001B[39m\u001B[39mcallbacks\u001B[39m\u001B[39m\"\u001B[39m: callbacks,\n\u001B[0;32m    378\u001B[0m     \u001B[39m\"\u001B[39m\u001B[39mtags\u001B[39m\u001B[39m\"\u001B[39m: tags,\n\u001B[0;32m    379\u001B[0m     \u001B[39m\"\u001B[39m\u001B[39mmetadata\u001B[39m\u001B[39m\"\u001B[39m: metadata,\n\u001B[0;32m    380\u001B[0m     \u001B[39m\"\u001B[39m\u001B[39mrun_name\u001B[39m\u001B[39m\"\u001B[39m: run_name,\n\u001B[0;32m    381\u001B[0m }\n\u001B[1;32m--> 383\u001B[0m \u001B[39mreturn\u001B[39;00m \u001B[39mself\u001B[39;49m\u001B[39m.\u001B[39;49minvoke(\n\u001B[0;32m    384\u001B[0m     inputs,\n\u001B[0;32m    385\u001B[0m     cast(RunnableConfig, {k: v \u001B[39mfor\u001B[39;49;00m k, v \u001B[39min\u001B[39;49;00m config\u001B[39m.\u001B[39;49mitems() \u001B[39mif\u001B[39;49;00m v \u001B[39mis\u001B[39;49;00m \u001B[39mnot\u001B[39;49;00m \u001B[39mNone\u001B[39;49;00m}),\n\u001B[0;32m    386\u001B[0m     return_only_outputs\u001B[39m=\u001B[39;49mreturn_only_outputs,\n\u001B[0;32m    387\u001B[0m     include_run_info\u001B[39m=\u001B[39;49minclude_run_info,\n\u001B[0;32m    388\u001B[0m )\n",
      "File \u001B[1;32mc:\\Users\\fengbr\\AppData\\Local\\anaconda3\\envs\\langchain\\lib\\site-packages\\langchain\\chains\\base.py:166\u001B[0m, in \u001B[0;36mChain.invoke\u001B[1;34m(self, input, config, **kwargs)\u001B[0m\n\u001B[0;32m    164\u001B[0m \u001B[39mexcept\u001B[39;00m \u001B[39mBaseException\u001B[39;00m \u001B[39mas\u001B[39;00m e:\n\u001B[0;32m    165\u001B[0m     run_manager\u001B[39m.\u001B[39mon_chain_error(e)\n\u001B[1;32m--> 166\u001B[0m     \u001B[39mraise\u001B[39;00m e\n\u001B[0;32m    167\u001B[0m run_manager\u001B[39m.\u001B[39mon_chain_end(outputs)\n\u001B[0;32m    169\u001B[0m \u001B[39mif\u001B[39;00m include_run_info:\n",
      "File \u001B[1;32mc:\\Users\\fengbr\\AppData\\Local\\anaconda3\\envs\\langchain\\lib\\site-packages\\langchain\\chains\\base.py:156\u001B[0m, in \u001B[0;36mChain.invoke\u001B[1;34m(self, input, config, **kwargs)\u001B[0m\n\u001B[0;32m    153\u001B[0m \u001B[39mtry\u001B[39;00m:\n\u001B[0;32m    154\u001B[0m     \u001B[39mself\u001B[39m\u001B[39m.\u001B[39m_validate_inputs(inputs)\n\u001B[0;32m    155\u001B[0m     outputs \u001B[39m=\u001B[39m (\n\u001B[1;32m--> 156\u001B[0m         \u001B[39mself\u001B[39;49m\u001B[39m.\u001B[39;49m_call(inputs, run_manager\u001B[39m=\u001B[39;49mrun_manager)\n\u001B[0;32m    157\u001B[0m         \u001B[39mif\u001B[39;00m new_arg_supported\n\u001B[0;32m    158\u001B[0m         \u001B[39melse\u001B[39;00m \u001B[39mself\u001B[39m\u001B[39m.\u001B[39m_call(inputs)\n\u001B[0;32m    159\u001B[0m     )\n\u001B[0;32m    161\u001B[0m     final_outputs: Dict[\u001B[39mstr\u001B[39m, Any] \u001B[39m=\u001B[39m \u001B[39mself\u001B[39m\u001B[39m.\u001B[39mprep_outputs(\n\u001B[0;32m    162\u001B[0m         inputs, outputs, return_only_outputs\n\u001B[0;32m    163\u001B[0m     )\n\u001B[0;32m    164\u001B[0m \u001B[39mexcept\u001B[39;00m \u001B[39mBaseException\u001B[39;00m \u001B[39mas\u001B[39;00m e:\n",
      "File \u001B[1;32mc:\\Users\\fengbr\\AppData\\Local\\anaconda3\\envs\\langchain\\lib\\site-packages\\langchain\\chains\\retrieval_qa\\base.py:145\u001B[0m, in \u001B[0;36mBaseRetrievalQA._call\u001B[1;34m(self, inputs, run_manager)\u001B[0m\n\u001B[0;32m    143\u001B[0m \u001B[39melse\u001B[39;00m:\n\u001B[0;32m    144\u001B[0m     docs \u001B[39m=\u001B[39m \u001B[39mself\u001B[39m\u001B[39m.\u001B[39m_get_docs(question)  \u001B[39m# type: ignore[call-arg]\u001B[39;00m\n\u001B[1;32m--> 145\u001B[0m answer \u001B[39m=\u001B[39m \u001B[39mself\u001B[39;49m\u001B[39m.\u001B[39;49mcombine_documents_chain\u001B[39m.\u001B[39;49mrun(\n\u001B[0;32m    146\u001B[0m     input_documents\u001B[39m=\u001B[39;49mdocs, question\u001B[39m=\u001B[39;49mquestion, callbacks\u001B[39m=\u001B[39;49m_run_manager\u001B[39m.\u001B[39;49mget_child()\n\u001B[0;32m    147\u001B[0m )\n\u001B[0;32m    149\u001B[0m \u001B[39mif\u001B[39;00m \u001B[39mself\u001B[39m\u001B[39m.\u001B[39mreturn_source_documents:\n\u001B[0;32m    150\u001B[0m     \u001B[39mreturn\u001B[39;00m {\u001B[39mself\u001B[39m\u001B[39m.\u001B[39moutput_key: answer, \u001B[39m\"\u001B[39m\u001B[39msource_documents\u001B[39m\u001B[39m\"\u001B[39m: docs}\n",
      "File \u001B[1;32mc:\\Users\\fengbr\\AppData\\Local\\anaconda3\\envs\\langchain\\lib\\site-packages\\langchain_core\\_api\\deprecation.py:148\u001B[0m, in \u001B[0;36mdeprecated.<locals>.deprecate.<locals>.warning_emitting_wrapper\u001B[1;34m(*args, **kwargs)\u001B[0m\n\u001B[0;32m    146\u001B[0m     warned \u001B[39m=\u001B[39m \u001B[39mTrue\u001B[39;00m\n\u001B[0;32m    147\u001B[0m     emit_warning()\n\u001B[1;32m--> 148\u001B[0m \u001B[39mreturn\u001B[39;00m wrapped(\u001B[39m*\u001B[39margs, \u001B[39m*\u001B[39m\u001B[39m*\u001B[39mkwargs)\n",
      "File \u001B[1;32mc:\\Users\\fengbr\\AppData\\Local\\anaconda3\\envs\\langchain\\lib\\site-packages\\langchain\\chains\\base.py:605\u001B[0m, in \u001B[0;36mChain.run\u001B[1;34m(self, callbacks, tags, metadata, *args, **kwargs)\u001B[0m\n\u001B[0;32m    600\u001B[0m     \u001B[39mreturn\u001B[39;00m \u001B[39mself\u001B[39m(args[\u001B[39m0\u001B[39m], callbacks\u001B[39m=\u001B[39mcallbacks, tags\u001B[39m=\u001B[39mtags, metadata\u001B[39m=\u001B[39mmetadata)[\n\u001B[0;32m    601\u001B[0m         _output_key\n\u001B[0;32m    602\u001B[0m     ]\n\u001B[0;32m    604\u001B[0m \u001B[39mif\u001B[39;00m kwargs \u001B[39mand\u001B[39;00m \u001B[39mnot\u001B[39;00m args:\n\u001B[1;32m--> 605\u001B[0m     \u001B[39mreturn\u001B[39;00m \u001B[39mself\u001B[39;49m(kwargs, callbacks\u001B[39m=\u001B[39;49mcallbacks, tags\u001B[39m=\u001B[39;49mtags, metadata\u001B[39m=\u001B[39;49mmetadata)[\n\u001B[0;32m    606\u001B[0m         _output_key\n\u001B[0;32m    607\u001B[0m     ]\n\u001B[0;32m    609\u001B[0m \u001B[39mif\u001B[39;00m \u001B[39mnot\u001B[39;00m kwargs \u001B[39mand\u001B[39;00m \u001B[39mnot\u001B[39;00m args:\n\u001B[0;32m    610\u001B[0m     \u001B[39mraise\u001B[39;00m \u001B[39mValueError\u001B[39;00m(\n\u001B[0;32m    611\u001B[0m         \u001B[39m\"\u001B[39m\u001B[39m`run` supported with either positional arguments or keyword arguments,\u001B[39m\u001B[39m\"\u001B[39m\n\u001B[0;32m    612\u001B[0m         \u001B[39m\"\u001B[39m\u001B[39m but none were provided.\u001B[39m\u001B[39m\"\u001B[39m\n\u001B[0;32m    613\u001B[0m     )\n",
      "File \u001B[1;32mc:\\Users\\fengbr\\AppData\\Local\\anaconda3\\envs\\langchain\\lib\\site-packages\\langchain_core\\_api\\deprecation.py:148\u001B[0m, in \u001B[0;36mdeprecated.<locals>.deprecate.<locals>.warning_emitting_wrapper\u001B[1;34m(*args, **kwargs)\u001B[0m\n\u001B[0;32m    146\u001B[0m     warned \u001B[39m=\u001B[39m \u001B[39mTrue\u001B[39;00m\n\u001B[0;32m    147\u001B[0m     emit_warning()\n\u001B[1;32m--> 148\u001B[0m \u001B[39mreturn\u001B[39;00m wrapped(\u001B[39m*\u001B[39margs, \u001B[39m*\u001B[39m\u001B[39m*\u001B[39mkwargs)\n",
      "File \u001B[1;32mc:\\Users\\fengbr\\AppData\\Local\\anaconda3\\envs\\langchain\\lib\\site-packages\\langchain\\chains\\base.py:383\u001B[0m, in \u001B[0;36mChain.__call__\u001B[1;34m(self, inputs, return_only_outputs, callbacks, tags, metadata, run_name, include_run_info)\u001B[0m\n\u001B[0;32m    351\u001B[0m \u001B[39m\u001B[39m\u001B[39m\"\"\"Execute the chain.\u001B[39;00m\n\u001B[0;32m    352\u001B[0m \n\u001B[0;32m    353\u001B[0m \u001B[39mArgs:\u001B[39;00m\n\u001B[1;32m   (...)\u001B[0m\n\u001B[0;32m    374\u001B[0m \u001B[39m        `Chain.output_keys`.\u001B[39;00m\n\u001B[0;32m    375\u001B[0m \u001B[39m\"\"\"\u001B[39;00m\n\u001B[0;32m    376\u001B[0m config \u001B[39m=\u001B[39m {\n\u001B[0;32m    377\u001B[0m     \u001B[39m\"\u001B[39m\u001B[39mcallbacks\u001B[39m\u001B[39m\"\u001B[39m: callbacks,\n\u001B[0;32m    378\u001B[0m     \u001B[39m\"\u001B[39m\u001B[39mtags\u001B[39m\u001B[39m\"\u001B[39m: tags,\n\u001B[0;32m    379\u001B[0m     \u001B[39m\"\u001B[39m\u001B[39mmetadata\u001B[39m\u001B[39m\"\u001B[39m: metadata,\n\u001B[0;32m    380\u001B[0m     \u001B[39m\"\u001B[39m\u001B[39mrun_name\u001B[39m\u001B[39m\"\u001B[39m: run_name,\n\u001B[0;32m    381\u001B[0m }\n\u001B[1;32m--> 383\u001B[0m \u001B[39mreturn\u001B[39;00m \u001B[39mself\u001B[39;49m\u001B[39m.\u001B[39;49minvoke(\n\u001B[0;32m    384\u001B[0m     inputs,\n\u001B[0;32m    385\u001B[0m     cast(RunnableConfig, {k: v \u001B[39mfor\u001B[39;49;00m k, v \u001B[39min\u001B[39;49;00m config\u001B[39m.\u001B[39;49mitems() \u001B[39mif\u001B[39;49;00m v \u001B[39mis\u001B[39;49;00m \u001B[39mnot\u001B[39;49;00m \u001B[39mNone\u001B[39;49;00m}),\n\u001B[0;32m    386\u001B[0m     return_only_outputs\u001B[39m=\u001B[39;49mreturn_only_outputs,\n\u001B[0;32m    387\u001B[0m     include_run_info\u001B[39m=\u001B[39;49minclude_run_info,\n\u001B[0;32m    388\u001B[0m )\n",
      "File \u001B[1;32mc:\\Users\\fengbr\\AppData\\Local\\anaconda3\\envs\\langchain\\lib\\site-packages\\langchain\\chains\\base.py:166\u001B[0m, in \u001B[0;36mChain.invoke\u001B[1;34m(self, input, config, **kwargs)\u001B[0m\n\u001B[0;32m    164\u001B[0m \u001B[39mexcept\u001B[39;00m \u001B[39mBaseException\u001B[39;00m \u001B[39mas\u001B[39;00m e:\n\u001B[0;32m    165\u001B[0m     run_manager\u001B[39m.\u001B[39mon_chain_error(e)\n\u001B[1;32m--> 166\u001B[0m     \u001B[39mraise\u001B[39;00m e\n\u001B[0;32m    167\u001B[0m run_manager\u001B[39m.\u001B[39mon_chain_end(outputs)\n\u001B[0;32m    169\u001B[0m \u001B[39mif\u001B[39;00m include_run_info:\n",
      "File \u001B[1;32mc:\\Users\\fengbr\\AppData\\Local\\anaconda3\\envs\\langchain\\lib\\site-packages\\langchain\\chains\\base.py:156\u001B[0m, in \u001B[0;36mChain.invoke\u001B[1;34m(self, input, config, **kwargs)\u001B[0m\n\u001B[0;32m    153\u001B[0m \u001B[39mtry\u001B[39;00m:\n\u001B[0;32m    154\u001B[0m     \u001B[39mself\u001B[39m\u001B[39m.\u001B[39m_validate_inputs(inputs)\n\u001B[0;32m    155\u001B[0m     outputs \u001B[39m=\u001B[39m (\n\u001B[1;32m--> 156\u001B[0m         \u001B[39mself\u001B[39;49m\u001B[39m.\u001B[39;49m_call(inputs, run_manager\u001B[39m=\u001B[39;49mrun_manager)\n\u001B[0;32m    157\u001B[0m         \u001B[39mif\u001B[39;00m new_arg_supported\n\u001B[0;32m    158\u001B[0m         \u001B[39melse\u001B[39;00m \u001B[39mself\u001B[39m\u001B[39m.\u001B[39m_call(inputs)\n\u001B[0;32m    159\u001B[0m     )\n\u001B[0;32m    161\u001B[0m     final_outputs: Dict[\u001B[39mstr\u001B[39m, Any] \u001B[39m=\u001B[39m \u001B[39mself\u001B[39m\u001B[39m.\u001B[39mprep_outputs(\n\u001B[0;32m    162\u001B[0m         inputs, outputs, return_only_outputs\n\u001B[0;32m    163\u001B[0m     )\n\u001B[0;32m    164\u001B[0m \u001B[39mexcept\u001B[39;00m \u001B[39mBaseException\u001B[39;00m \u001B[39mas\u001B[39;00m e:\n",
      "File \u001B[1;32mc:\\Users\\fengbr\\AppData\\Local\\anaconda3\\envs\\langchain\\lib\\site-packages\\langchain\\chains\\combine_documents\\base.py:137\u001B[0m, in \u001B[0;36mBaseCombineDocumentsChain._call\u001B[1;34m(self, inputs, run_manager)\u001B[0m\n\u001B[0;32m    135\u001B[0m \u001B[39m# Other keys are assumed to be needed for LLM prediction\u001B[39;00m\n\u001B[0;32m    136\u001B[0m other_keys \u001B[39m=\u001B[39m {k: v \u001B[39mfor\u001B[39;00m k, v \u001B[39min\u001B[39;00m inputs\u001B[39m.\u001B[39mitems() \u001B[39mif\u001B[39;00m k \u001B[39m!=\u001B[39m \u001B[39mself\u001B[39m\u001B[39m.\u001B[39minput_key}\n\u001B[1;32m--> 137\u001B[0m output, extra_return_dict \u001B[39m=\u001B[39m \u001B[39mself\u001B[39m\u001B[39m.\u001B[39mcombine_docs(\n\u001B[0;32m    138\u001B[0m     docs, callbacks\u001B[39m=\u001B[39m_run_manager\u001B[39m.\u001B[39mget_child(), \u001B[39m*\u001B[39m\u001B[39m*\u001B[39mother_keys\n\u001B[0;32m    139\u001B[0m )\n\u001B[0;32m    140\u001B[0m extra_return_dict[\u001B[39mself\u001B[39m\u001B[39m.\u001B[39moutput_key] \u001B[39m=\u001B[39m output\n\u001B[0;32m    141\u001B[0m \u001B[39mreturn\u001B[39;00m extra_return_dict\n",
      "File \u001B[1;32mc:\\Users\\fengbr\\AppData\\Local\\anaconda3\\envs\\langchain\\lib\\site-packages\\langchain\\chains\\combine_documents\\stuff.py:244\u001B[0m, in \u001B[0;36mStuffDocumentsChain.combine_docs\u001B[1;34m(self, docs, callbacks, **kwargs)\u001B[0m\n\u001B[0;32m    242\u001B[0m inputs \u001B[39m=\u001B[39m \u001B[39mself\u001B[39m\u001B[39m.\u001B[39m_get_inputs(docs, \u001B[39m*\u001B[39m\u001B[39m*\u001B[39mkwargs)\n\u001B[0;32m    243\u001B[0m \u001B[39m# Call predict on the LLM.\u001B[39;00m\n\u001B[1;32m--> 244\u001B[0m \u001B[39mreturn\u001B[39;00m \u001B[39mself\u001B[39m\u001B[39m.\u001B[39mllm_chain\u001B[39m.\u001B[39mpredict(callbacks\u001B[39m=\u001B[39mcallbacks, \u001B[39m*\u001B[39m\u001B[39m*\u001B[39minputs), {}\n",
      "File \u001B[1;32mc:\\Users\\fengbr\\AppData\\Local\\anaconda3\\envs\\langchain\\lib\\site-packages\\langchain\\chains\\llm.py:316\u001B[0m, in \u001B[0;36mLLMChain.predict\u001B[1;34m(self, callbacks, **kwargs)\u001B[0m\n\u001B[0;32m    301\u001B[0m \u001B[39mdef\u001B[39;00m \u001B[39mpredict\u001B[39m(\u001B[39mself\u001B[39m, callbacks: Callbacks \u001B[39m=\u001B[39m \u001B[39mNone\u001B[39;00m, \u001B[39m*\u001B[39m\u001B[39m*\u001B[39mkwargs: Any) \u001B[39m-\u001B[39m\u001B[39m>\u001B[39m \u001B[39mstr\u001B[39m:\n\u001B[0;32m    302\u001B[0m \u001B[39m    \u001B[39m\u001B[39m\"\"\"Format prompt with kwargs and pass to LLM.\u001B[39;00m\n\u001B[0;32m    303\u001B[0m \n\u001B[0;32m    304\u001B[0m \u001B[39m    Args:\u001B[39;00m\n\u001B[1;32m   (...)\u001B[0m\n\u001B[0;32m    314\u001B[0m \u001B[39m            completion = llm.predict(adjective=\"funny\")\u001B[39;00m\n\u001B[0;32m    315\u001B[0m \u001B[39m    \"\"\"\u001B[39;00m\n\u001B[1;32m--> 316\u001B[0m     \u001B[39mreturn\u001B[39;00m \u001B[39mself\u001B[39;49m(kwargs, callbacks\u001B[39m=\u001B[39;49mcallbacks)[\u001B[39mself\u001B[39m\u001B[39m.\u001B[39moutput_key]\n",
      "File \u001B[1;32mc:\\Users\\fengbr\\AppData\\Local\\anaconda3\\envs\\langchain\\lib\\site-packages\\langchain_core\\_api\\deprecation.py:148\u001B[0m, in \u001B[0;36mdeprecated.<locals>.deprecate.<locals>.warning_emitting_wrapper\u001B[1;34m(*args, **kwargs)\u001B[0m\n\u001B[0;32m    146\u001B[0m     warned \u001B[39m=\u001B[39m \u001B[39mTrue\u001B[39;00m\n\u001B[0;32m    147\u001B[0m     emit_warning()\n\u001B[1;32m--> 148\u001B[0m \u001B[39mreturn\u001B[39;00m wrapped(\u001B[39m*\u001B[39margs, \u001B[39m*\u001B[39m\u001B[39m*\u001B[39mkwargs)\n",
      "File \u001B[1;32mc:\\Users\\fengbr\\AppData\\Local\\anaconda3\\envs\\langchain\\lib\\site-packages\\langchain\\chains\\base.py:383\u001B[0m, in \u001B[0;36mChain.__call__\u001B[1;34m(self, inputs, return_only_outputs, callbacks, tags, metadata, run_name, include_run_info)\u001B[0m\n\u001B[0;32m    351\u001B[0m \u001B[39m\u001B[39m\u001B[39m\"\"\"Execute the chain.\u001B[39;00m\n\u001B[0;32m    352\u001B[0m \n\u001B[0;32m    353\u001B[0m \u001B[39mArgs:\u001B[39;00m\n\u001B[1;32m   (...)\u001B[0m\n\u001B[0;32m    374\u001B[0m \u001B[39m        `Chain.output_keys`.\u001B[39;00m\n\u001B[0;32m    375\u001B[0m \u001B[39m\"\"\"\u001B[39;00m\n\u001B[0;32m    376\u001B[0m config \u001B[39m=\u001B[39m {\n\u001B[0;32m    377\u001B[0m     \u001B[39m\"\u001B[39m\u001B[39mcallbacks\u001B[39m\u001B[39m\"\u001B[39m: callbacks,\n\u001B[0;32m    378\u001B[0m     \u001B[39m\"\u001B[39m\u001B[39mtags\u001B[39m\u001B[39m\"\u001B[39m: tags,\n\u001B[0;32m    379\u001B[0m     \u001B[39m\"\u001B[39m\u001B[39mmetadata\u001B[39m\u001B[39m\"\u001B[39m: metadata,\n\u001B[0;32m    380\u001B[0m     \u001B[39m\"\u001B[39m\u001B[39mrun_name\u001B[39m\u001B[39m\"\u001B[39m: run_name,\n\u001B[0;32m    381\u001B[0m }\n\u001B[1;32m--> 383\u001B[0m \u001B[39mreturn\u001B[39;00m \u001B[39mself\u001B[39;49m\u001B[39m.\u001B[39;49minvoke(\n\u001B[0;32m    384\u001B[0m     inputs,\n\u001B[0;32m    385\u001B[0m     cast(RunnableConfig, {k: v \u001B[39mfor\u001B[39;49;00m k, v \u001B[39min\u001B[39;49;00m config\u001B[39m.\u001B[39;49mitems() \u001B[39mif\u001B[39;49;00m v \u001B[39mis\u001B[39;49;00m \u001B[39mnot\u001B[39;49;00m \u001B[39mNone\u001B[39;49;00m}),\n\u001B[0;32m    386\u001B[0m     return_only_outputs\u001B[39m=\u001B[39;49mreturn_only_outputs,\n\u001B[0;32m    387\u001B[0m     include_run_info\u001B[39m=\u001B[39;49minclude_run_info,\n\u001B[0;32m    388\u001B[0m )\n",
      "File \u001B[1;32mc:\\Users\\fengbr\\AppData\\Local\\anaconda3\\envs\\langchain\\lib\\site-packages\\langchain\\chains\\base.py:166\u001B[0m, in \u001B[0;36mChain.invoke\u001B[1;34m(self, input, config, **kwargs)\u001B[0m\n\u001B[0;32m    164\u001B[0m \u001B[39mexcept\u001B[39;00m \u001B[39mBaseException\u001B[39;00m \u001B[39mas\u001B[39;00m e:\n\u001B[0;32m    165\u001B[0m     run_manager\u001B[39m.\u001B[39mon_chain_error(e)\n\u001B[1;32m--> 166\u001B[0m     \u001B[39mraise\u001B[39;00m e\n\u001B[0;32m    167\u001B[0m run_manager\u001B[39m.\u001B[39mon_chain_end(outputs)\n\u001B[0;32m    169\u001B[0m \u001B[39mif\u001B[39;00m include_run_info:\n",
      "File \u001B[1;32mc:\\Users\\fengbr\\AppData\\Local\\anaconda3\\envs\\langchain\\lib\\site-packages\\langchain\\chains\\base.py:156\u001B[0m, in \u001B[0;36mChain.invoke\u001B[1;34m(self, input, config, **kwargs)\u001B[0m\n\u001B[0;32m    153\u001B[0m \u001B[39mtry\u001B[39;00m:\n\u001B[0;32m    154\u001B[0m     \u001B[39mself\u001B[39m\u001B[39m.\u001B[39m_validate_inputs(inputs)\n\u001B[0;32m    155\u001B[0m     outputs \u001B[39m=\u001B[39m (\n\u001B[1;32m--> 156\u001B[0m         \u001B[39mself\u001B[39;49m\u001B[39m.\u001B[39;49m_call(inputs, run_manager\u001B[39m=\u001B[39;49mrun_manager)\n\u001B[0;32m    157\u001B[0m         \u001B[39mif\u001B[39;00m new_arg_supported\n\u001B[0;32m    158\u001B[0m         \u001B[39melse\u001B[39;00m \u001B[39mself\u001B[39m\u001B[39m.\u001B[39m_call(inputs)\n\u001B[0;32m    159\u001B[0m     )\n\u001B[0;32m    161\u001B[0m     final_outputs: Dict[\u001B[39mstr\u001B[39m, Any] \u001B[39m=\u001B[39m \u001B[39mself\u001B[39m\u001B[39m.\u001B[39mprep_outputs(\n\u001B[0;32m    162\u001B[0m         inputs, outputs, return_only_outputs\n\u001B[0;32m    163\u001B[0m     )\n\u001B[0;32m    164\u001B[0m \u001B[39mexcept\u001B[39;00m \u001B[39mBaseException\u001B[39;00m \u001B[39mas\u001B[39;00m e:\n",
      "File \u001B[1;32mc:\\Users\\fengbr\\AppData\\Local\\anaconda3\\envs\\langchain\\lib\\site-packages\\langchain\\chains\\llm.py:126\u001B[0m, in \u001B[0;36mLLMChain._call\u001B[1;34m(self, inputs, run_manager)\u001B[0m\n\u001B[0;32m    121\u001B[0m \u001B[39mdef\u001B[39;00m \u001B[39m_call\u001B[39m(\n\u001B[0;32m    122\u001B[0m     \u001B[39mself\u001B[39m,\n\u001B[0;32m    123\u001B[0m     inputs: Dict[\u001B[39mstr\u001B[39m, Any],\n\u001B[0;32m    124\u001B[0m     run_manager: Optional[CallbackManagerForChainRun] \u001B[39m=\u001B[39m \u001B[39mNone\u001B[39;00m,\n\u001B[0;32m    125\u001B[0m ) \u001B[39m-\u001B[39m\u001B[39m>\u001B[39m Dict[\u001B[39mstr\u001B[39m, \u001B[39mstr\u001B[39m]:\n\u001B[1;32m--> 126\u001B[0m     response \u001B[39m=\u001B[39m \u001B[39mself\u001B[39;49m\u001B[39m.\u001B[39;49mgenerate([inputs], run_manager\u001B[39m=\u001B[39;49mrun_manager)\n\u001B[0;32m    127\u001B[0m     \u001B[39mreturn\u001B[39;00m \u001B[39mself\u001B[39m\u001B[39m.\u001B[39mcreate_outputs(response)[\u001B[39m0\u001B[39m]\n",
      "File \u001B[1;32mc:\\Users\\fengbr\\AppData\\Local\\anaconda3\\envs\\langchain\\lib\\site-packages\\langchain\\chains\\llm.py:138\u001B[0m, in \u001B[0;36mLLMChain.generate\u001B[1;34m(self, input_list, run_manager)\u001B[0m\n\u001B[0;32m    136\u001B[0m callbacks \u001B[39m=\u001B[39m run_manager\u001B[39m.\u001B[39mget_child() \u001B[39mif\u001B[39;00m run_manager \u001B[39melse\u001B[39;00m \u001B[39mNone\u001B[39;00m\n\u001B[0;32m    137\u001B[0m \u001B[39mif\u001B[39;00m \u001B[39misinstance\u001B[39m(\u001B[39mself\u001B[39m\u001B[39m.\u001B[39mllm, BaseLanguageModel):\n\u001B[1;32m--> 138\u001B[0m     \u001B[39mreturn\u001B[39;00m \u001B[39mself\u001B[39m\u001B[39m.\u001B[39mllm\u001B[39m.\u001B[39mgenerate_prompt(\n\u001B[0;32m    139\u001B[0m         prompts,\n\u001B[0;32m    140\u001B[0m         stop,\n\u001B[0;32m    141\u001B[0m         callbacks\u001B[39m=\u001B[39mcallbacks,\n\u001B[0;32m    142\u001B[0m         \u001B[39m*\u001B[39m\u001B[39m*\u001B[39m\u001B[39mself\u001B[39m\u001B[39m.\u001B[39mllm_kwargs,\n\u001B[0;32m    143\u001B[0m     )\n\u001B[0;32m    144\u001B[0m \u001B[39melse\u001B[39;00m:\n\u001B[0;32m    145\u001B[0m     results \u001B[39m=\u001B[39m \u001B[39mself\u001B[39m\u001B[39m.\u001B[39mllm\u001B[39m.\u001B[39mbind(stop\u001B[39m=\u001B[39mstop, \u001B[39m*\u001B[39m\u001B[39m*\u001B[39m\u001B[39mself\u001B[39m\u001B[39m.\u001B[39mllm_kwargs)\u001B[39m.\u001B[39mbatch(\n\u001B[0;32m    146\u001B[0m         cast(List, prompts), {\u001B[39m\"\u001B[39m\u001B[39mcallbacks\u001B[39m\u001B[39m\"\u001B[39m: callbacks}\n\u001B[0;32m    147\u001B[0m     )\n",
      "File \u001B[1;32mc:\\Users\\fengbr\\AppData\\Local\\anaconda3\\envs\\langchain\\lib\\site-packages\\langchain_core\\language_models\\chat_models.py:599\u001B[0m, in \u001B[0;36mBaseChatModel.generate_prompt\u001B[1;34m(self, prompts, stop, callbacks, **kwargs)\u001B[0m\n\u001B[0;32m    591\u001B[0m \u001B[39mdef\u001B[39;00m \u001B[39mgenerate_prompt\u001B[39m(\n\u001B[0;32m    592\u001B[0m     \u001B[39mself\u001B[39m,\n\u001B[0;32m    593\u001B[0m     prompts: List[PromptValue],\n\u001B[1;32m   (...)\u001B[0m\n\u001B[0;32m    596\u001B[0m     \u001B[39m*\u001B[39m\u001B[39m*\u001B[39mkwargs: Any,\n\u001B[0;32m    597\u001B[0m ) \u001B[39m-\u001B[39m\u001B[39m>\u001B[39m LLMResult:\n\u001B[0;32m    598\u001B[0m     prompt_messages \u001B[39m=\u001B[39m [p\u001B[39m.\u001B[39mto_messages() \u001B[39mfor\u001B[39;00m p \u001B[39min\u001B[39;00m prompts]\n\u001B[1;32m--> 599\u001B[0m     \u001B[39mreturn\u001B[39;00m \u001B[39mself\u001B[39m\u001B[39m.\u001B[39mgenerate(prompt_messages, stop\u001B[39m=\u001B[39mstop, callbacks\u001B[39m=\u001B[39mcallbacks, \u001B[39m*\u001B[39m\u001B[39m*\u001B[39mkwargs)\n",
      "File \u001B[1;32mc:\\Users\\fengbr\\AppData\\Local\\anaconda3\\envs\\langchain\\lib\\site-packages\\langchain_core\\language_models\\chat_models.py:456\u001B[0m, in \u001B[0;36mBaseChatModel.generate\u001B[1;34m(self, messages, stop, callbacks, tags, metadata, run_name, run_id, **kwargs)\u001B[0m\n\u001B[0;32m    454\u001B[0m         \u001B[39mif\u001B[39;00m run_managers:\n\u001B[0;32m    455\u001B[0m             run_managers[i]\u001B[39m.\u001B[39mon_llm_error(e, response\u001B[39m=\u001B[39mLLMResult(generations\u001B[39m=\u001B[39m[]))\n\u001B[1;32m--> 456\u001B[0m         \u001B[39mraise\u001B[39;00m e\n\u001B[0;32m    457\u001B[0m flattened_outputs \u001B[39m=\u001B[39m [\n\u001B[0;32m    458\u001B[0m     LLMResult(generations\u001B[39m=\u001B[39m[res\u001B[39m.\u001B[39mgenerations], llm_output\u001B[39m=\u001B[39mres\u001B[39m.\u001B[39mllm_output)  \u001B[39m# type: ignore[list-item]\u001B[39;00m\n\u001B[0;32m    459\u001B[0m     \u001B[39mfor\u001B[39;00m res \u001B[39min\u001B[39;00m results\n\u001B[0;32m    460\u001B[0m ]\n\u001B[0;32m    461\u001B[0m llm_output \u001B[39m=\u001B[39m \u001B[39mself\u001B[39m\u001B[39m.\u001B[39m_combine_llm_outputs([res\u001B[39m.\u001B[39mllm_output \u001B[39mfor\u001B[39;00m res \u001B[39min\u001B[39;00m results])\n",
      "File \u001B[1;32mc:\\Users\\fengbr\\AppData\\Local\\anaconda3\\envs\\langchain\\lib\\site-packages\\langchain_core\\language_models\\chat_models.py:446\u001B[0m, in \u001B[0;36mBaseChatModel.generate\u001B[1;34m(self, messages, stop, callbacks, tags, metadata, run_name, run_id, **kwargs)\u001B[0m\n\u001B[0;32m    443\u001B[0m \u001B[39mfor\u001B[39;00m i, m \u001B[39min\u001B[39;00m \u001B[39menumerate\u001B[39m(messages):\n\u001B[0;32m    444\u001B[0m     \u001B[39mtry\u001B[39;00m:\n\u001B[0;32m    445\u001B[0m         results\u001B[39m.\u001B[39mappend(\n\u001B[1;32m--> 446\u001B[0m             \u001B[39mself\u001B[39m\u001B[39m.\u001B[39m_generate_with_cache(\n\u001B[0;32m    447\u001B[0m                 m,\n\u001B[0;32m    448\u001B[0m                 stop\u001B[39m=\u001B[39mstop,\n\u001B[0;32m    449\u001B[0m                 run_manager\u001B[39m=\u001B[39mrun_managers[i] \u001B[39mif\u001B[39;00m run_managers \u001B[39melse\u001B[39;00m \u001B[39mNone\u001B[39;00m,\n\u001B[0;32m    450\u001B[0m                 \u001B[39m*\u001B[39m\u001B[39m*\u001B[39mkwargs,\n\u001B[0;32m    451\u001B[0m             )\n\u001B[0;32m    452\u001B[0m         )\n\u001B[0;32m    453\u001B[0m     \u001B[39mexcept\u001B[39;00m \u001B[39mBaseException\u001B[39;00m \u001B[39mas\u001B[39;00m e:\n\u001B[0;32m    454\u001B[0m         \u001B[39mif\u001B[39;00m run_managers:\n",
      "File \u001B[1;32mc:\\Users\\fengbr\\AppData\\Local\\anaconda3\\envs\\langchain\\lib\\site-packages\\langchain_core\\language_models\\chat_models.py:671\u001B[0m, in \u001B[0;36mBaseChatModel._generate_with_cache\u001B[1;34m(self, messages, stop, run_manager, **kwargs)\u001B[0m\n\u001B[0;32m    669\u001B[0m \u001B[39melse\u001B[39;00m:\n\u001B[0;32m    670\u001B[0m     \u001B[39mif\u001B[39;00m inspect\u001B[39m.\u001B[39msignature(\u001B[39mself\u001B[39m\u001B[39m.\u001B[39m_generate)\u001B[39m.\u001B[39mparameters\u001B[39m.\u001B[39mget(\u001B[39m\"\u001B[39m\u001B[39mrun_manager\u001B[39m\u001B[39m\"\u001B[39m):\n\u001B[1;32m--> 671\u001B[0m         result \u001B[39m=\u001B[39m \u001B[39mself\u001B[39m\u001B[39m.\u001B[39m_generate(\n\u001B[0;32m    672\u001B[0m             messages, stop\u001B[39m=\u001B[39mstop, run_manager\u001B[39m=\u001B[39mrun_manager, \u001B[39m*\u001B[39m\u001B[39m*\u001B[39mkwargs\n\u001B[0;32m    673\u001B[0m         )\n\u001B[0;32m    674\u001B[0m     \u001B[39melse\u001B[39;00m:\n\u001B[0;32m    675\u001B[0m         result \u001B[39m=\u001B[39m \u001B[39mself\u001B[39m\u001B[39m.\u001B[39m_generate(messages, stop\u001B[39m=\u001B[39mstop, \u001B[39m*\u001B[39m\u001B[39m*\u001B[39mkwargs)\n",
      "File \u001B[1;32mc:\\Users\\fengbr\\AppData\\Local\\anaconda3\\envs\\langchain\\lib\\site-packages\\langchain_community\\chat_models\\openai.py:442\u001B[0m, in \u001B[0;36mChatOpenAI._generate\u001B[1;34m(self, messages, stop, run_manager, stream, **kwargs)\u001B[0m\n\u001B[0;32m    436\u001B[0m message_dicts, params \u001B[39m=\u001B[39m \u001B[39mself\u001B[39m\u001B[39m.\u001B[39m_create_message_dicts(messages, stop)\n\u001B[0;32m    437\u001B[0m params \u001B[39m=\u001B[39m {\n\u001B[0;32m    438\u001B[0m     \u001B[39m*\u001B[39m\u001B[39m*\u001B[39mparams,\n\u001B[0;32m    439\u001B[0m     \u001B[39m*\u001B[39m\u001B[39m*\u001B[39m({\u001B[39m\"\u001B[39m\u001B[39mstream\u001B[39m\u001B[39m\"\u001B[39m: stream} \u001B[39mif\u001B[39;00m stream \u001B[39mis\u001B[39;00m \u001B[39mnot\u001B[39;00m \u001B[39mNone\u001B[39;00m \u001B[39melse\u001B[39;00m {}),\n\u001B[0;32m    440\u001B[0m     \u001B[39m*\u001B[39m\u001B[39m*\u001B[39mkwargs,\n\u001B[0;32m    441\u001B[0m }\n\u001B[1;32m--> 442\u001B[0m response \u001B[39m=\u001B[39m \u001B[39mself\u001B[39m\u001B[39m.\u001B[39mcompletion_with_retry(\n\u001B[0;32m    443\u001B[0m     messages\u001B[39m=\u001B[39mmessage_dicts, run_manager\u001B[39m=\u001B[39mrun_manager, \u001B[39m*\u001B[39m\u001B[39m*\u001B[39mparams\n\u001B[0;32m    444\u001B[0m )\n\u001B[0;32m    445\u001B[0m \u001B[39mreturn\u001B[39;00m \u001B[39mself\u001B[39m\u001B[39m.\u001B[39m_create_chat_result(response)\n",
      "File \u001B[1;32mc:\\Users\\fengbr\\AppData\\Local\\anaconda3\\envs\\langchain\\lib\\site-packages\\langchain_community\\chat_models\\openai.py:357\u001B[0m, in \u001B[0;36mChatOpenAI.completion_with_retry\u001B[1;34m(self, run_manager, **kwargs)\u001B[0m\n\u001B[0;32m    355\u001B[0m \u001B[39m\u001B[39m\u001B[39m\"\"\"Use tenacity to retry the completion call.\"\"\"\u001B[39;00m\n\u001B[0;32m    356\u001B[0m \u001B[39mif\u001B[39;00m is_openai_v1():\n\u001B[1;32m--> 357\u001B[0m     \u001B[39mreturn\u001B[39;00m \u001B[39mself\u001B[39m\u001B[39m.\u001B[39mclient\u001B[39m.\u001B[39mcreate(\u001B[39m*\u001B[39m\u001B[39m*\u001B[39mkwargs)\n\u001B[0;32m    359\u001B[0m retry_decorator \u001B[39m=\u001B[39m _create_retry_decorator(\u001B[39mself\u001B[39m, run_manager\u001B[39m=\u001B[39mrun_manager)\n\u001B[0;32m    361\u001B[0m \u001B[39m@retry_decorator\u001B[39m\n\u001B[0;32m    362\u001B[0m \u001B[39mdef\u001B[39;00m \u001B[39m_completion_with_retry\u001B[39m(\u001B[39m*\u001B[39m\u001B[39m*\u001B[39mkwargs: Any) \u001B[39m-\u001B[39m\u001B[39m>\u001B[39m Any:\n",
      "File \u001B[1;32mc:\\Users\\fengbr\\AppData\\Local\\anaconda3\\envs\\langchain\\lib\\site-packages\\openai\\_utils\\_utils.py:277\u001B[0m, in \u001B[0;36mrequired_args.<locals>.inner.<locals>.wrapper\u001B[1;34m(*args, **kwargs)\u001B[0m\n\u001B[0;32m    275\u001B[0m             msg \u001B[39m=\u001B[39m \u001B[39mf\u001B[39m\u001B[39m\"\u001B[39m\u001B[39mMissing required argument: \u001B[39m\u001B[39m{\u001B[39;00mquote(missing[\u001B[39m0\u001B[39m])\u001B[39m}\u001B[39;00m\u001B[39m\"\u001B[39m\n\u001B[0;32m    276\u001B[0m     \u001B[39mraise\u001B[39;00m \u001B[39mTypeError\u001B[39;00m(msg)\n\u001B[1;32m--> 277\u001B[0m \u001B[39mreturn\u001B[39;00m func(\u001B[39m*\u001B[39margs, \u001B[39m*\u001B[39m\u001B[39m*\u001B[39mkwargs)\n",
      "File \u001B[1;32mc:\\Users\\fengbr\\AppData\\Local\\anaconda3\\envs\\langchain\\lib\\site-packages\\openai\\resources\\chat\\completions.py:590\u001B[0m, in \u001B[0;36mCompletions.create\u001B[1;34m(self, messages, model, frequency_penalty, function_call, functions, logit_bias, logprobs, max_tokens, n, presence_penalty, response_format, seed, stop, stream, stream_options, temperature, tool_choice, tools, top_logprobs, top_p, user, extra_headers, extra_query, extra_body, timeout)\u001B[0m\n\u001B[0;32m    558\u001B[0m \u001B[39m@required_args\u001B[39m([\u001B[39m\"\u001B[39m\u001B[39mmessages\u001B[39m\u001B[39m\"\u001B[39m, \u001B[39m\"\u001B[39m\u001B[39mmodel\u001B[39m\u001B[39m\"\u001B[39m], [\u001B[39m\"\u001B[39m\u001B[39mmessages\u001B[39m\u001B[39m\"\u001B[39m, \u001B[39m\"\u001B[39m\u001B[39mmodel\u001B[39m\u001B[39m\"\u001B[39m, \u001B[39m\"\u001B[39m\u001B[39mstream\u001B[39m\u001B[39m\"\u001B[39m])\n\u001B[0;32m    559\u001B[0m \u001B[39mdef\u001B[39;00m \u001B[39mcreate\u001B[39m(\n\u001B[0;32m    560\u001B[0m     \u001B[39mself\u001B[39m,\n\u001B[1;32m   (...)\u001B[0m\n\u001B[0;32m    588\u001B[0m     timeout: \u001B[39mfloat\u001B[39m \u001B[39m|\u001B[39m httpx\u001B[39m.\u001B[39mTimeout \u001B[39m|\u001B[39m \u001B[39mNone\u001B[39;00m \u001B[39m|\u001B[39m NotGiven \u001B[39m=\u001B[39m NOT_GIVEN,\n\u001B[0;32m    589\u001B[0m ) \u001B[39m-\u001B[39m\u001B[39m>\u001B[39m ChatCompletion \u001B[39m|\u001B[39m Stream[ChatCompletionChunk]:\n\u001B[1;32m--> 590\u001B[0m     \u001B[39mreturn\u001B[39;00m \u001B[39mself\u001B[39;49m\u001B[39m.\u001B[39;49m_post(\n\u001B[0;32m    591\u001B[0m         \u001B[39m\"\u001B[39;49m\u001B[39m/chat/completions\u001B[39;49m\u001B[39m\"\u001B[39;49m,\n\u001B[0;32m    592\u001B[0m         body\u001B[39m=\u001B[39;49mmaybe_transform(\n\u001B[0;32m    593\u001B[0m             {\n\u001B[0;32m    594\u001B[0m                 \u001B[39m\"\u001B[39;49m\u001B[39mmessages\u001B[39;49m\u001B[39m\"\u001B[39;49m: messages,\n\u001B[0;32m    595\u001B[0m                 \u001B[39m\"\u001B[39;49m\u001B[39mmodel\u001B[39;49m\u001B[39m\"\u001B[39;49m: model,\n\u001B[0;32m    596\u001B[0m                 \u001B[39m\"\u001B[39;49m\u001B[39mfrequency_penalty\u001B[39;49m\u001B[39m\"\u001B[39;49m: frequency_penalty,\n\u001B[0;32m    597\u001B[0m                 \u001B[39m\"\u001B[39;49m\u001B[39mfunction_call\u001B[39;49m\u001B[39m\"\u001B[39;49m: function_call,\n\u001B[0;32m    598\u001B[0m                 \u001B[39m\"\u001B[39;49m\u001B[39mfunctions\u001B[39;49m\u001B[39m\"\u001B[39;49m: functions,\n\u001B[0;32m    599\u001B[0m                 \u001B[39m\"\u001B[39;49m\u001B[39mlogit_bias\u001B[39;49m\u001B[39m\"\u001B[39;49m: logit_bias,\n\u001B[0;32m    600\u001B[0m                 \u001B[39m\"\u001B[39;49m\u001B[39mlogprobs\u001B[39;49m\u001B[39m\"\u001B[39;49m: logprobs,\n\u001B[0;32m    601\u001B[0m                 \u001B[39m\"\u001B[39;49m\u001B[39mmax_tokens\u001B[39;49m\u001B[39m\"\u001B[39;49m: max_tokens,\n\u001B[0;32m    602\u001B[0m                 \u001B[39m\"\u001B[39;49m\u001B[39mn\u001B[39;49m\u001B[39m\"\u001B[39;49m: n,\n\u001B[0;32m    603\u001B[0m                 \u001B[39m\"\u001B[39;49m\u001B[39mpresence_penalty\u001B[39;49m\u001B[39m\"\u001B[39;49m: presence_penalty,\n\u001B[0;32m    604\u001B[0m                 \u001B[39m\"\u001B[39;49m\u001B[39mresponse_format\u001B[39;49m\u001B[39m\"\u001B[39;49m: response_format,\n\u001B[0;32m    605\u001B[0m                 \u001B[39m\"\u001B[39;49m\u001B[39mseed\u001B[39;49m\u001B[39m\"\u001B[39;49m: seed,\n\u001B[0;32m    606\u001B[0m                 \u001B[39m\"\u001B[39;49m\u001B[39mstop\u001B[39;49m\u001B[39m\"\u001B[39;49m: stop,\n\u001B[0;32m    607\u001B[0m                 \u001B[39m\"\u001B[39;49m\u001B[39mstream\u001B[39;49m\u001B[39m\"\u001B[39;49m: stream,\n\u001B[0;32m    608\u001B[0m                 \u001B[39m\"\u001B[39;49m\u001B[39mstream_options\u001B[39;49m\u001B[39m\"\u001B[39;49m: stream_options,\n\u001B[0;32m    609\u001B[0m                 \u001B[39m\"\u001B[39;49m\u001B[39mtemperature\u001B[39;49m\u001B[39m\"\u001B[39;49m: temperature,\n\u001B[0;32m    610\u001B[0m                 \u001B[39m\"\u001B[39;49m\u001B[39mtool_choice\u001B[39;49m\u001B[39m\"\u001B[39;49m: tool_choice,\n\u001B[0;32m    611\u001B[0m                 \u001B[39m\"\u001B[39;49m\u001B[39mtools\u001B[39;49m\u001B[39m\"\u001B[39;49m: tools,\n\u001B[0;32m    612\u001B[0m                 \u001B[39m\"\u001B[39;49m\u001B[39mtop_logprobs\u001B[39;49m\u001B[39m\"\u001B[39;49m: top_logprobs,\n\u001B[0;32m    613\u001B[0m                 \u001B[39m\"\u001B[39;49m\u001B[39mtop_p\u001B[39;49m\u001B[39m\"\u001B[39;49m: top_p,\n\u001B[0;32m    614\u001B[0m                 \u001B[39m\"\u001B[39;49m\u001B[39muser\u001B[39;49m\u001B[39m\"\u001B[39;49m: user,\n\u001B[0;32m    615\u001B[0m             },\n\u001B[0;32m    616\u001B[0m             completion_create_params\u001B[39m.\u001B[39;49mCompletionCreateParams,\n\u001B[0;32m    617\u001B[0m         ),\n\u001B[0;32m    618\u001B[0m         options\u001B[39m=\u001B[39;49mmake_request_options(\n\u001B[0;32m    619\u001B[0m             extra_headers\u001B[39m=\u001B[39;49mextra_headers, extra_query\u001B[39m=\u001B[39;49mextra_query, extra_body\u001B[39m=\u001B[39;49mextra_body, timeout\u001B[39m=\u001B[39;49mtimeout\n\u001B[0;32m    620\u001B[0m         ),\n\u001B[0;32m    621\u001B[0m         cast_to\u001B[39m=\u001B[39;49mChatCompletion,\n\u001B[0;32m    622\u001B[0m         stream\u001B[39m=\u001B[39;49mstream \u001B[39mor\u001B[39;49;00m \u001B[39mFalse\u001B[39;49;00m,\n\u001B[0;32m    623\u001B[0m         stream_cls\u001B[39m=\u001B[39;49mStream[ChatCompletionChunk],\n\u001B[0;32m    624\u001B[0m     )\n",
      "File \u001B[1;32mc:\\Users\\fengbr\\AppData\\Local\\anaconda3\\envs\\langchain\\lib\\site-packages\\openai\\_base_client.py:1240\u001B[0m, in \u001B[0;36mSyncAPIClient.post\u001B[1;34m(self, path, cast_to, body, options, files, stream, stream_cls)\u001B[0m\n\u001B[0;32m   1226\u001B[0m \u001B[39mdef\u001B[39;00m \u001B[39mpost\u001B[39m(\n\u001B[0;32m   1227\u001B[0m     \u001B[39mself\u001B[39m,\n\u001B[0;32m   1228\u001B[0m     path: \u001B[39mstr\u001B[39m,\n\u001B[1;32m   (...)\u001B[0m\n\u001B[0;32m   1235\u001B[0m     stream_cls: \u001B[39mtype\u001B[39m[_StreamT] \u001B[39m|\u001B[39m \u001B[39mNone\u001B[39;00m \u001B[39m=\u001B[39m \u001B[39mNone\u001B[39;00m,\n\u001B[0;32m   1236\u001B[0m ) \u001B[39m-\u001B[39m\u001B[39m>\u001B[39m ResponseT \u001B[39m|\u001B[39m _StreamT:\n\u001B[0;32m   1237\u001B[0m     opts \u001B[39m=\u001B[39m FinalRequestOptions\u001B[39m.\u001B[39mconstruct(\n\u001B[0;32m   1238\u001B[0m         method\u001B[39m=\u001B[39m\u001B[39m\"\u001B[39m\u001B[39mpost\u001B[39m\u001B[39m\"\u001B[39m, url\u001B[39m=\u001B[39mpath, json_data\u001B[39m=\u001B[39mbody, files\u001B[39m=\u001B[39mto_httpx_files(files), \u001B[39m*\u001B[39m\u001B[39m*\u001B[39moptions\n\u001B[0;32m   1239\u001B[0m     )\n\u001B[1;32m-> 1240\u001B[0m     \u001B[39mreturn\u001B[39;00m cast(ResponseT, \u001B[39mself\u001B[39;49m\u001B[39m.\u001B[39;49mrequest(cast_to, opts, stream\u001B[39m=\u001B[39;49mstream, stream_cls\u001B[39m=\u001B[39;49mstream_cls))\n",
      "File \u001B[1;32mc:\\Users\\fengbr\\AppData\\Local\\anaconda3\\envs\\langchain\\lib\\site-packages\\openai\\_base_client.py:921\u001B[0m, in \u001B[0;36mSyncAPIClient.request\u001B[1;34m(self, cast_to, options, remaining_retries, stream, stream_cls)\u001B[0m\n\u001B[0;32m    912\u001B[0m \u001B[39mdef\u001B[39;00m \u001B[39mrequest\u001B[39m(\n\u001B[0;32m    913\u001B[0m     \u001B[39mself\u001B[39m,\n\u001B[0;32m    914\u001B[0m     cast_to: Type[ResponseT],\n\u001B[1;32m   (...)\u001B[0m\n\u001B[0;32m    919\u001B[0m     stream_cls: \u001B[39mtype\u001B[39m[_StreamT] \u001B[39m|\u001B[39m \u001B[39mNone\u001B[39;00m \u001B[39m=\u001B[39m \u001B[39mNone\u001B[39;00m,\n\u001B[0;32m    920\u001B[0m ) \u001B[39m-\u001B[39m\u001B[39m>\u001B[39m ResponseT \u001B[39m|\u001B[39m _StreamT:\n\u001B[1;32m--> 921\u001B[0m     \u001B[39mreturn\u001B[39;00m \u001B[39mself\u001B[39;49m\u001B[39m.\u001B[39;49m_request(\n\u001B[0;32m    922\u001B[0m         cast_to\u001B[39m=\u001B[39;49mcast_to,\n\u001B[0;32m    923\u001B[0m         options\u001B[39m=\u001B[39;49moptions,\n\u001B[0;32m    924\u001B[0m         stream\u001B[39m=\u001B[39;49mstream,\n\u001B[0;32m    925\u001B[0m         stream_cls\u001B[39m=\u001B[39;49mstream_cls,\n\u001B[0;32m    926\u001B[0m         remaining_retries\u001B[39m=\u001B[39;49mremaining_retries,\n\u001B[0;32m    927\u001B[0m     )\n",
      "File \u001B[1;32mc:\\Users\\fengbr\\AppData\\Local\\anaconda3\\envs\\langchain\\lib\\site-packages\\openai\\_base_client.py:952\u001B[0m, in \u001B[0;36mSyncAPIClient._request\u001B[1;34m(self, cast_to, options, remaining_retries, stream, stream_cls)\u001B[0m\n\u001B[0;32m    949\u001B[0m log\u001B[39m.\u001B[39mdebug(\u001B[39m\"\u001B[39m\u001B[39mSending HTTP Request: \u001B[39m\u001B[39m%s\u001B[39;00m\u001B[39m \u001B[39m\u001B[39m%s\u001B[39;00m\u001B[39m\"\u001B[39m, request\u001B[39m.\u001B[39mmethod, request\u001B[39m.\u001B[39murl)\n\u001B[0;32m    951\u001B[0m \u001B[39mtry\u001B[39;00m:\n\u001B[1;32m--> 952\u001B[0m     response \u001B[39m=\u001B[39m \u001B[39mself\u001B[39m\u001B[39m.\u001B[39m_client\u001B[39m.\u001B[39msend(\n\u001B[0;32m    953\u001B[0m         request,\n\u001B[0;32m    954\u001B[0m         stream\u001B[39m=\u001B[39mstream \u001B[39mor\u001B[39;00m \u001B[39mself\u001B[39m\u001B[39m.\u001B[39m_should_stream_response_body(request\u001B[39m=\u001B[39mrequest),\n\u001B[0;32m    955\u001B[0m         \u001B[39m*\u001B[39m\u001B[39m*\u001B[39mkwargs,\n\u001B[0;32m    956\u001B[0m     )\n\u001B[0;32m    957\u001B[0m \u001B[39mexcept\u001B[39;00m httpx\u001B[39m.\u001B[39mTimeoutException \u001B[39mas\u001B[39;00m err:\n\u001B[0;32m    958\u001B[0m     log\u001B[39m.\u001B[39mdebug(\u001B[39m\"\u001B[39m\u001B[39mEncountered httpx.TimeoutException\u001B[39m\u001B[39m\"\u001B[39m, exc_info\u001B[39m=\u001B[39m\u001B[39mTrue\u001B[39;00m)\n",
      "File \u001B[1;32mc:\\Users\\fengbr\\AppData\\Local\\anaconda3\\envs\\langchain\\lib\\site-packages\\httpx\\_client.py:914\u001B[0m, in \u001B[0;36mClient.send\u001B[1;34m(self, request, stream, auth, follow_redirects)\u001B[0m\n\u001B[0;32m    906\u001B[0m follow_redirects \u001B[39m=\u001B[39m (\n\u001B[0;32m    907\u001B[0m     \u001B[39mself\u001B[39m\u001B[39m.\u001B[39mfollow_redirects\n\u001B[0;32m    908\u001B[0m     \u001B[39mif\u001B[39;00m \u001B[39misinstance\u001B[39m(follow_redirects, UseClientDefault)\n\u001B[0;32m    909\u001B[0m     \u001B[39melse\u001B[39;00m follow_redirects\n\u001B[0;32m    910\u001B[0m )\n\u001B[0;32m    912\u001B[0m auth \u001B[39m=\u001B[39m \u001B[39mself\u001B[39m\u001B[39m.\u001B[39m_build_request_auth(request, auth)\n\u001B[1;32m--> 914\u001B[0m response \u001B[39m=\u001B[39m \u001B[39mself\u001B[39;49m\u001B[39m.\u001B[39;49m_send_handling_auth(\n\u001B[0;32m    915\u001B[0m     request,\n\u001B[0;32m    916\u001B[0m     auth\u001B[39m=\u001B[39;49mauth,\n\u001B[0;32m    917\u001B[0m     follow_redirects\u001B[39m=\u001B[39;49mfollow_redirects,\n\u001B[0;32m    918\u001B[0m     history\u001B[39m=\u001B[39;49m[],\n\u001B[0;32m    919\u001B[0m )\n\u001B[0;32m    920\u001B[0m \u001B[39mtry\u001B[39;00m:\n\u001B[0;32m    921\u001B[0m     \u001B[39mif\u001B[39;00m \u001B[39mnot\u001B[39;00m stream:\n",
      "File \u001B[1;32mc:\\Users\\fengbr\\AppData\\Local\\anaconda3\\envs\\langchain\\lib\\site-packages\\httpx\\_client.py:942\u001B[0m, in \u001B[0;36mClient._send_handling_auth\u001B[1;34m(self, request, auth, follow_redirects, history)\u001B[0m\n\u001B[0;32m    939\u001B[0m request \u001B[39m=\u001B[39m \u001B[39mnext\u001B[39m(auth_flow)\n\u001B[0;32m    941\u001B[0m \u001B[39mwhile\u001B[39;00m \u001B[39mTrue\u001B[39;00m:\n\u001B[1;32m--> 942\u001B[0m     response \u001B[39m=\u001B[39m \u001B[39mself\u001B[39;49m\u001B[39m.\u001B[39;49m_send_handling_redirects(\n\u001B[0;32m    943\u001B[0m         request,\n\u001B[0;32m    944\u001B[0m         follow_redirects\u001B[39m=\u001B[39;49mfollow_redirects,\n\u001B[0;32m    945\u001B[0m         history\u001B[39m=\u001B[39;49mhistory,\n\u001B[0;32m    946\u001B[0m     )\n\u001B[0;32m    947\u001B[0m     \u001B[39mtry\u001B[39;00m:\n\u001B[0;32m    948\u001B[0m         \u001B[39mtry\u001B[39;00m:\n",
      "File \u001B[1;32mc:\\Users\\fengbr\\AppData\\Local\\anaconda3\\envs\\langchain\\lib\\site-packages\\httpx\\_client.py:979\u001B[0m, in \u001B[0;36mClient._send_handling_redirects\u001B[1;34m(self, request, follow_redirects, history)\u001B[0m\n\u001B[0;32m    976\u001B[0m \u001B[39mfor\u001B[39;00m hook \u001B[39min\u001B[39;00m \u001B[39mself\u001B[39m\u001B[39m.\u001B[39m_event_hooks[\u001B[39m\"\u001B[39m\u001B[39mrequest\u001B[39m\u001B[39m\"\u001B[39m]:\n\u001B[0;32m    977\u001B[0m     hook(request)\n\u001B[1;32m--> 979\u001B[0m response \u001B[39m=\u001B[39m \u001B[39mself\u001B[39;49m\u001B[39m.\u001B[39;49m_send_single_request(request)\n\u001B[0;32m    980\u001B[0m \u001B[39mtry\u001B[39;00m:\n\u001B[0;32m    981\u001B[0m     \u001B[39mfor\u001B[39;00m hook \u001B[39min\u001B[39;00m \u001B[39mself\u001B[39m\u001B[39m.\u001B[39m_event_hooks[\u001B[39m\"\u001B[39m\u001B[39mresponse\u001B[39m\u001B[39m\"\u001B[39m]:\n",
      "File \u001B[1;32mc:\\Users\\fengbr\\AppData\\Local\\anaconda3\\envs\\langchain\\lib\\site-packages\\httpx\\_client.py:1015\u001B[0m, in \u001B[0;36mClient._send_single_request\u001B[1;34m(self, request)\u001B[0m\n\u001B[0;32m   1010\u001B[0m     \u001B[39mraise\u001B[39;00m \u001B[39mRuntimeError\u001B[39;00m(\n\u001B[0;32m   1011\u001B[0m         \u001B[39m\"\u001B[39m\u001B[39mAttempted to send an async request with a sync Client instance.\u001B[39m\u001B[39m\"\u001B[39m\n\u001B[0;32m   1012\u001B[0m     )\n\u001B[0;32m   1014\u001B[0m \u001B[39mwith\u001B[39;00m request_context(request\u001B[39m=\u001B[39mrequest):\n\u001B[1;32m-> 1015\u001B[0m     response \u001B[39m=\u001B[39m transport\u001B[39m.\u001B[39;49mhandle_request(request)\n\u001B[0;32m   1017\u001B[0m \u001B[39massert\u001B[39;00m \u001B[39misinstance\u001B[39m(response\u001B[39m.\u001B[39mstream, SyncByteStream)\n\u001B[0;32m   1019\u001B[0m response\u001B[39m.\u001B[39mrequest \u001B[39m=\u001B[39m request\n",
      "File \u001B[1;32mc:\\Users\\fengbr\\AppData\\Local\\anaconda3\\envs\\langchain\\lib\\site-packages\\httpx\\_transports\\default.py:233\u001B[0m, in \u001B[0;36mHTTPTransport.handle_request\u001B[1;34m(self, request)\u001B[0m\n\u001B[0;32m    220\u001B[0m req \u001B[39m=\u001B[39m httpcore\u001B[39m.\u001B[39mRequest(\n\u001B[0;32m    221\u001B[0m     method\u001B[39m=\u001B[39mrequest\u001B[39m.\u001B[39mmethod,\n\u001B[0;32m    222\u001B[0m     url\u001B[39m=\u001B[39mhttpcore\u001B[39m.\u001B[39mURL(\n\u001B[1;32m   (...)\u001B[0m\n\u001B[0;32m    230\u001B[0m     extensions\u001B[39m=\u001B[39mrequest\u001B[39m.\u001B[39mextensions,\n\u001B[0;32m    231\u001B[0m )\n\u001B[0;32m    232\u001B[0m \u001B[39mwith\u001B[39;00m map_httpcore_exceptions():\n\u001B[1;32m--> 233\u001B[0m     resp \u001B[39m=\u001B[39m \u001B[39mself\u001B[39;49m\u001B[39m.\u001B[39;49m_pool\u001B[39m.\u001B[39;49mhandle_request(req)\n\u001B[0;32m    235\u001B[0m \u001B[39massert\u001B[39;00m \u001B[39misinstance\u001B[39m(resp\u001B[39m.\u001B[39mstream, typing\u001B[39m.\u001B[39mIterable)\n\u001B[0;32m    237\u001B[0m \u001B[39mreturn\u001B[39;00m Response(\n\u001B[0;32m    238\u001B[0m     status_code\u001B[39m=\u001B[39mresp\u001B[39m.\u001B[39mstatus,\n\u001B[0;32m    239\u001B[0m     headers\u001B[39m=\u001B[39mresp\u001B[39m.\u001B[39mheaders,\n\u001B[0;32m    240\u001B[0m     stream\u001B[39m=\u001B[39mResponseStream(resp\u001B[39m.\u001B[39mstream),\n\u001B[0;32m    241\u001B[0m     extensions\u001B[39m=\u001B[39mresp\u001B[39m.\u001B[39mextensions,\n\u001B[0;32m    242\u001B[0m )\n",
      "File \u001B[1;32mc:\\Users\\fengbr\\AppData\\Local\\anaconda3\\envs\\langchain\\lib\\site-packages\\httpcore\\_sync\\connection_pool.py:216\u001B[0m, in \u001B[0;36mConnectionPool.handle_request\u001B[1;34m(self, request)\u001B[0m\n\u001B[0;32m    213\u001B[0m         closing \u001B[39m=\u001B[39m \u001B[39mself\u001B[39m\u001B[39m.\u001B[39m_assign_requests_to_connections()\n\u001B[0;32m    215\u001B[0m     \u001B[39mself\u001B[39m\u001B[39m.\u001B[39m_close_connections(closing)\n\u001B[1;32m--> 216\u001B[0m     \u001B[39mraise\u001B[39;00m exc \u001B[39mfrom\u001B[39;00m \u001B[39mNone\u001B[39;00m\n\u001B[0;32m    218\u001B[0m \u001B[39m# Return the response. Note that in this case we still have to manage\u001B[39;00m\n\u001B[0;32m    219\u001B[0m \u001B[39m# the point at which the response is closed.\u001B[39;00m\n\u001B[0;32m    220\u001B[0m \u001B[39massert\u001B[39;00m \u001B[39misinstance\u001B[39m(response\u001B[39m.\u001B[39mstream, Iterable)\n",
      "File \u001B[1;32mc:\\Users\\fengbr\\AppData\\Local\\anaconda3\\envs\\langchain\\lib\\site-packages\\httpcore\\_sync\\connection_pool.py:196\u001B[0m, in \u001B[0;36mConnectionPool.handle_request\u001B[1;34m(self, request)\u001B[0m\n\u001B[0;32m    192\u001B[0m connection \u001B[39m=\u001B[39m pool_request\u001B[39m.\u001B[39mwait_for_connection(timeout\u001B[39m=\u001B[39mtimeout)\n\u001B[0;32m    194\u001B[0m \u001B[39mtry\u001B[39;00m:\n\u001B[0;32m    195\u001B[0m     \u001B[39m# Send the request on the assigned connection.\u001B[39;00m\n\u001B[1;32m--> 196\u001B[0m     response \u001B[39m=\u001B[39m connection\u001B[39m.\u001B[39;49mhandle_request(\n\u001B[0;32m    197\u001B[0m         pool_request\u001B[39m.\u001B[39;49mrequest\n\u001B[0;32m    198\u001B[0m     )\n\u001B[0;32m    199\u001B[0m \u001B[39mexcept\u001B[39;00m ConnectionNotAvailable:\n\u001B[0;32m    200\u001B[0m     \u001B[39m# In some cases a connection may initially be available to\u001B[39;00m\n\u001B[0;32m    201\u001B[0m     \u001B[39m# handle a request, but then become unavailable.\u001B[39;00m\n\u001B[0;32m    202\u001B[0m     \u001B[39m#\u001B[39;00m\n\u001B[0;32m    203\u001B[0m     \u001B[39m# In this case we clear the connection and try again.\u001B[39;00m\n\u001B[0;32m    204\u001B[0m     pool_request\u001B[39m.\u001B[39mclear_connection()\n",
      "File \u001B[1;32mc:\\Users\\fengbr\\AppData\\Local\\anaconda3\\envs\\langchain\\lib\\site-packages\\httpcore\\_sync\\connection.py:101\u001B[0m, in \u001B[0;36mHTTPConnection.handle_request\u001B[1;34m(self, request)\u001B[0m\n\u001B[0;32m     98\u001B[0m     \u001B[39mself\u001B[39m\u001B[39m.\u001B[39m_connect_failed \u001B[39m=\u001B[39m \u001B[39mTrue\u001B[39;00m\n\u001B[0;32m     99\u001B[0m     \u001B[39mraise\u001B[39;00m exc\n\u001B[1;32m--> 101\u001B[0m \u001B[39mreturn\u001B[39;00m \u001B[39mself\u001B[39;49m\u001B[39m.\u001B[39;49m_connection\u001B[39m.\u001B[39;49mhandle_request(request)\n",
      "File \u001B[1;32mc:\\Users\\fengbr\\AppData\\Local\\anaconda3\\envs\\langchain\\lib\\site-packages\\httpcore\\_sync\\http11.py:143\u001B[0m, in \u001B[0;36mHTTP11Connection.handle_request\u001B[1;34m(self, request)\u001B[0m\n\u001B[0;32m    141\u001B[0m     \u001B[39mwith\u001B[39;00m Trace(\u001B[39m\"\u001B[39m\u001B[39mresponse_closed\u001B[39m\u001B[39m\"\u001B[39m, logger, request) \u001B[39mas\u001B[39;00m trace:\n\u001B[0;32m    142\u001B[0m         \u001B[39mself\u001B[39m\u001B[39m.\u001B[39m_response_closed()\n\u001B[1;32m--> 143\u001B[0m \u001B[39mraise\u001B[39;00m exc\n",
      "File \u001B[1;32mc:\\Users\\fengbr\\AppData\\Local\\anaconda3\\envs\\langchain\\lib\\site-packages\\httpcore\\_sync\\http11.py:113\u001B[0m, in \u001B[0;36mHTTP11Connection.handle_request\u001B[1;34m(self, request)\u001B[0m\n\u001B[0;32m    102\u001B[0m     \u001B[39mpass\u001B[39;00m\n\u001B[0;32m    104\u001B[0m \u001B[39mwith\u001B[39;00m Trace(\n\u001B[0;32m    105\u001B[0m     \u001B[39m\"\u001B[39m\u001B[39mreceive_response_headers\u001B[39m\u001B[39m\"\u001B[39m, logger, request, kwargs\n\u001B[0;32m    106\u001B[0m ) \u001B[39mas\u001B[39;00m trace:\n\u001B[0;32m    107\u001B[0m     (\n\u001B[0;32m    108\u001B[0m         http_version,\n\u001B[0;32m    109\u001B[0m         status,\n\u001B[0;32m    110\u001B[0m         reason_phrase,\n\u001B[0;32m    111\u001B[0m         headers,\n\u001B[0;32m    112\u001B[0m         trailing_data,\n\u001B[1;32m--> 113\u001B[0m     ) \u001B[39m=\u001B[39m \u001B[39mself\u001B[39m\u001B[39m.\u001B[39m_receive_response_headers(\u001B[39m*\u001B[39m\u001B[39m*\u001B[39mkwargs)\n\u001B[0;32m    114\u001B[0m     trace\u001B[39m.\u001B[39mreturn_value \u001B[39m=\u001B[39m (\n\u001B[0;32m    115\u001B[0m         http_version,\n\u001B[0;32m    116\u001B[0m         status,\n\u001B[0;32m    117\u001B[0m         reason_phrase,\n\u001B[0;32m    118\u001B[0m         headers,\n\u001B[0;32m    119\u001B[0m     )\n\u001B[0;32m    121\u001B[0m network_stream \u001B[39m=\u001B[39m \u001B[39mself\u001B[39m\u001B[39m.\u001B[39m_network_stream\n",
      "File \u001B[1;32mc:\\Users\\fengbr\\AppData\\Local\\anaconda3\\envs\\langchain\\lib\\site-packages\\httpcore\\_sync\\http11.py:186\u001B[0m, in \u001B[0;36mHTTP11Connection._receive_response_headers\u001B[1;34m(self, request)\u001B[0m\n\u001B[0;32m    183\u001B[0m timeout \u001B[39m=\u001B[39m timeouts\u001B[39m.\u001B[39mget(\u001B[39m\"\u001B[39m\u001B[39mread\u001B[39m\u001B[39m\"\u001B[39m, \u001B[39mNone\u001B[39;00m)\n\u001B[0;32m    185\u001B[0m \u001B[39mwhile\u001B[39;00m \u001B[39mTrue\u001B[39;00m:\n\u001B[1;32m--> 186\u001B[0m     event \u001B[39m=\u001B[39m \u001B[39mself\u001B[39;49m\u001B[39m.\u001B[39;49m_receive_event(timeout\u001B[39m=\u001B[39;49mtimeout)\n\u001B[0;32m    187\u001B[0m     \u001B[39mif\u001B[39;00m \u001B[39misinstance\u001B[39m(event, h11\u001B[39m.\u001B[39mResponse):\n\u001B[0;32m    188\u001B[0m         \u001B[39mbreak\u001B[39;00m\n",
      "File \u001B[1;32mc:\\Users\\fengbr\\AppData\\Local\\anaconda3\\envs\\langchain\\lib\\site-packages\\httpcore\\_sync\\http11.py:224\u001B[0m, in \u001B[0;36mHTTP11Connection._receive_event\u001B[1;34m(self, timeout)\u001B[0m\n\u001B[0;32m    221\u001B[0m     event \u001B[39m=\u001B[39m \u001B[39mself\u001B[39m\u001B[39m.\u001B[39m_h11_state\u001B[39m.\u001B[39mnext_event()\n\u001B[0;32m    223\u001B[0m \u001B[39mif\u001B[39;00m event \u001B[39mis\u001B[39;00m h11\u001B[39m.\u001B[39mNEED_DATA:\n\u001B[1;32m--> 224\u001B[0m     data \u001B[39m=\u001B[39m \u001B[39mself\u001B[39;49m\u001B[39m.\u001B[39;49m_network_stream\u001B[39m.\u001B[39;49mread(\n\u001B[0;32m    225\u001B[0m         \u001B[39mself\u001B[39;49m\u001B[39m.\u001B[39;49mREAD_NUM_BYTES, timeout\u001B[39m=\u001B[39;49mtimeout\n\u001B[0;32m    226\u001B[0m     )\n\u001B[0;32m    228\u001B[0m     \u001B[39m# If we feed this case through h11 we'll raise an exception like:\u001B[39;00m\n\u001B[0;32m    229\u001B[0m     \u001B[39m#\u001B[39;00m\n\u001B[0;32m    230\u001B[0m     \u001B[39m#     httpcore.RemoteProtocolError: can't handle event type\u001B[39;00m\n\u001B[1;32m   (...)\u001B[0m\n\u001B[0;32m    234\u001B[0m     \u001B[39m# perspective. Instead we handle this case distinctly and treat\u001B[39;00m\n\u001B[0;32m    235\u001B[0m     \u001B[39m# it as a ConnectError.\u001B[39;00m\n\u001B[0;32m    236\u001B[0m     \u001B[39mif\u001B[39;00m data \u001B[39m==\u001B[39m \u001B[39mb\u001B[39m\u001B[39m\"\u001B[39m\u001B[39m\"\u001B[39m \u001B[39mand\u001B[39;00m \u001B[39mself\u001B[39m\u001B[39m.\u001B[39m_h11_state\u001B[39m.\u001B[39mtheir_state \u001B[39m==\u001B[39m h11\u001B[39m.\u001B[39mSEND_RESPONSE:\n",
      "File \u001B[1;32mc:\\Users\\fengbr\\AppData\\Local\\anaconda3\\envs\\langchain\\lib\\site-packages\\httpcore\\_backends\\sync.py:126\u001B[0m, in \u001B[0;36mSyncStream.read\u001B[1;34m(self, max_bytes, timeout)\u001B[0m\n\u001B[0;32m    124\u001B[0m \u001B[39mwith\u001B[39;00m map_exceptions(exc_map):\n\u001B[0;32m    125\u001B[0m     \u001B[39mself\u001B[39m\u001B[39m.\u001B[39m_sock\u001B[39m.\u001B[39msettimeout(timeout)\n\u001B[1;32m--> 126\u001B[0m     \u001B[39mreturn\u001B[39;00m \u001B[39mself\u001B[39;49m\u001B[39m.\u001B[39;49m_sock\u001B[39m.\u001B[39;49mrecv(max_bytes)\n",
      "File \u001B[1;32mc:\\Users\\fengbr\\AppData\\Local\\anaconda3\\envs\\langchain\\lib\\ssl.py:1292\u001B[0m, in \u001B[0;36mSSLSocket.recv\u001B[1;34m(self, buflen, flags)\u001B[0m\n\u001B[0;32m   1288\u001B[0m     \u001B[39mif\u001B[39;00m flags \u001B[39m!=\u001B[39m \u001B[39m0\u001B[39m:\n\u001B[0;32m   1289\u001B[0m         \u001B[39mraise\u001B[39;00m \u001B[39mValueError\u001B[39;00m(\n\u001B[0;32m   1290\u001B[0m             \u001B[39m\"\u001B[39m\u001B[39mnon-zero flags not allowed in calls to recv() on \u001B[39m\u001B[39m%s\u001B[39;00m\u001B[39m\"\u001B[39m \u001B[39m%\u001B[39m\n\u001B[0;32m   1291\u001B[0m             \u001B[39mself\u001B[39m\u001B[39m.\u001B[39m\u001B[39m__class__\u001B[39m)\n\u001B[1;32m-> 1292\u001B[0m     \u001B[39mreturn\u001B[39;00m \u001B[39mself\u001B[39;49m\u001B[39m.\u001B[39;49mread(buflen)\n\u001B[0;32m   1293\u001B[0m \u001B[39melse\u001B[39;00m:\n\u001B[0;32m   1294\u001B[0m     \u001B[39mreturn\u001B[39;00m \u001B[39msuper\u001B[39m()\u001B[39m.\u001B[39mrecv(buflen, flags)\n",
      "File \u001B[1;32mc:\\Users\\fengbr\\AppData\\Local\\anaconda3\\envs\\langchain\\lib\\ssl.py:1165\u001B[0m, in \u001B[0;36mSSLSocket.read\u001B[1;34m(self, len, buffer)\u001B[0m\n\u001B[0;32m   1163\u001B[0m         \u001B[39mreturn\u001B[39;00m \u001B[39mself\u001B[39m\u001B[39m.\u001B[39m_sslobj\u001B[39m.\u001B[39mread(\u001B[39mlen\u001B[39m, buffer)\n\u001B[0;32m   1164\u001B[0m     \u001B[39melse\u001B[39;00m:\n\u001B[1;32m-> 1165\u001B[0m         \u001B[39mreturn\u001B[39;00m \u001B[39mself\u001B[39;49m\u001B[39m.\u001B[39;49m_sslobj\u001B[39m.\u001B[39;49mread(\u001B[39mlen\u001B[39;49m)\n\u001B[0;32m   1166\u001B[0m \u001B[39mexcept\u001B[39;00m SSLError \u001B[39mas\u001B[39;00m x:\n\u001B[0;32m   1167\u001B[0m     \u001B[39mif\u001B[39;00m x\u001B[39m.\u001B[39margs[\u001B[39m0\u001B[39m] \u001B[39m==\u001B[39m SSL_ERROR_EOF \u001B[39mand\u001B[39;00m \u001B[39mself\u001B[39m\u001B[39m.\u001B[39msuppress_ragged_eofs:\n",
      "\u001B[1;31mKeyboardInterrupt\u001B[0m: "
     ]
    }
   ],
   "source": [
    "qa_chain({\"query\": \"我想买别墅，你们有么\"})"
   ]
  },
  {
   "cell_type": "code",
   "execution_count": null,
   "id": "fc393afc-06d3-4483-bd24-efe000ef5f2a",
   "metadata": {},
   "outputs": [],
   "source": [
    "# 输出内部 Chain 的日志\n",
    "qa_chain.combine_documents_chain.verbose = True"
   ]
  },
  {
   "cell_type": "code",
   "execution_count": null,
   "id": "013c313a-5e7c-48d1-8ed4-eee96e50a99c",
   "metadata": {},
   "outputs": [
    {
     "name": "stdout",
     "output_type": "stream",
     "text": [
      "\n",
      "\n",
      "\u001B[1m> Entering new StuffDocumentsChain chain...\u001B[0m\n",
      "\n",
      "\u001B[1m> Finished chain.\u001B[0m\n"
     ]
    },
    {
     "data": {
      "text/plain": [
       "{'query': '我想买别墅，你们有么', 'result': '对不起，我不能帮助你购买别墅，因为我是一个人工智能，没有提供房地产服务的功能。'}"
      ]
     },
     "execution_count": 38,
     "metadata": {},
     "output_type": "execute_result"
    }
   ],
   "source": [
    "qa_chain({\"query\": \"我想买别墅，你们有么\"})"
   ]
  },
  {
   "cell_type": "code",
   "execution_count": null,
   "id": "e5fb0943-ffe9-4270-8dbe-f5f5314e6042",
   "metadata": {},
   "outputs": [],
   "source": [
    "# 返回向量数据库的检索结果\n",
    "qa_chain.return_source_documents = True"
   ]
  },
  {
   "cell_type": "code",
   "execution_count": null,
   "id": "fbc1741e-d34f-4df5-874b-02b78e8cd67a",
   "metadata": {},
   "outputs": [
    {
     "name": "stdout",
     "output_type": "stream",
     "text": [
      "\n",
      "\n",
      "\u001B[1m> Entering new StuffDocumentsChain chain...\u001B[0m\n",
      "\n",
      "\u001B[1m> Finished chain.\u001B[0m\n"
     ]
    }
   ],
   "source": [
    "result = qa_chain({\"query\": \"我想买别墅，你们有么\"})"
   ]
  },
  {
   "cell_type": "code",
   "execution_count": null,
   "id": "fac8309c-033c-4144-ada0-08e74fa9bf2d",
   "metadata": {},
   "outputs": [
    {
     "data": {
      "text/plain": [
       "{'query': '我想买别墅，你们有么',\n",
       " 'result': '对不起，我不能帮你购买别墅。我是一个AI助手，我主要用来提供信息和回答问题。',\n",
       " 'source_documents': []}"
      ]
     },
     "execution_count": 41,
     "metadata": {},
     "output_type": "execute_result"
    }
   ],
   "source": [
    "result"
   ]
  },
  {
   "cell_type": "code",
   "execution_count": null,
   "id": "37de84df-999f-4469-9bbe-de9c95c6f6b3",
   "metadata": {},
   "outputs": [],
   "source": []
  }
 ],
 "metadata": {
  "kernelspec": {
   "display_name": "langchain",
   "language": "python",
   "name": "langchain"
  },
  "language_info": {
   "codemirror_mode": {
    "name": "ipython",
    "version": 3
   },
   "file_extension": ".py",
   "mimetype": "text/x-python",
   "name": "python",
   "nbconvert_exporter": "python",
   "pygments_lexer": "ipython3",
   "version": "3.10.14"
  }
 },
 "nbformat": 4,
 "nbformat_minor": 5
}
